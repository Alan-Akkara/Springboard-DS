{
 "cells": [
  {
   "cell_type": "code",
   "execution_count": 123,
   "id": "136171fa-648c-4c11-9754-a007eb357241",
   "metadata": {},
   "outputs": [
    {
     "name": "stdout",
     "output_type": "stream",
     "text": [
      "Requirement already satisfied: datasets in c:\\users\\alana\\anaconda3\\lib\\site-packages (4.2.0)\n",
      "Requirement already satisfied: filelock in c:\\users\\alana\\anaconda3\\lib\\site-packages (from datasets) (3.13.1)\n",
      "Requirement already satisfied: numpy>=1.17 in c:\\users\\alana\\anaconda3\\lib\\site-packages (from datasets) (1.26.4)\n",
      "Requirement already satisfied: pyarrow>=21.0.0 in c:\\users\\alana\\anaconda3\\lib\\site-packages (from datasets) (21.0.0)\n",
      "Requirement already satisfied: dill<0.4.1,>=0.3.0 in c:\\users\\alana\\anaconda3\\lib\\site-packages (from datasets) (0.4.0)\n",
      "Requirement already satisfied: pandas in c:\\users\\alana\\anaconda3\\lib\\site-packages (from datasets) (2.1.4)\n",
      "Requirement already satisfied: requests>=2.32.2 in c:\\users\\alana\\anaconda3\\lib\\site-packages (from datasets) (2.32.5)\n",
      "Requirement already satisfied: httpx<1.0.0 in c:\\users\\alana\\anaconda3\\lib\\site-packages (from datasets) (0.28.1)\n",
      "Requirement already satisfied: tqdm>=4.66.3 in c:\\users\\alana\\anaconda3\\lib\\site-packages (from datasets) (4.67.1)\n",
      "Requirement already satisfied: xxhash in c:\\users\\alana\\anaconda3\\lib\\site-packages (from datasets) (3.6.0)\n",
      "Requirement already satisfied: multiprocess<0.70.17 in c:\\users\\alana\\anaconda3\\lib\\site-packages (from datasets) (0.70.16)\n",
      "Requirement already satisfied: fsspec<=2025.9.0,>=2023.1.0 in c:\\users\\alana\\anaconda3\\lib\\site-packages (from fsspec[http]<=2025.9.0,>=2023.1.0->datasets) (2023.10.0)\n",
      "Requirement already satisfied: huggingface-hub<2.0,>=0.25.0 in c:\\users\\alana\\anaconda3\\lib\\site-packages (from datasets) (0.26.5)\n",
      "Requirement already satisfied: packaging in c:\\users\\alana\\anaconda3\\lib\\site-packages (from datasets) (24.2)\n",
      "Requirement already satisfied: pyyaml>=5.1 in c:\\users\\alana\\anaconda3\\lib\\site-packages (from datasets) (6.0.1)\n",
      "Requirement already satisfied: aiohttp!=4.0.0a0,!=4.0.0a1 in c:\\users\\alana\\anaconda3\\lib\\site-packages (from fsspec[http]<=2025.9.0,>=2023.1.0->datasets) (3.9.3)\n",
      "Requirement already satisfied: anyio in c:\\users\\alana\\anaconda3\\lib\\site-packages (from httpx<1.0.0->datasets) (4.2.0)\n",
      "Requirement already satisfied: certifi in c:\\users\\alana\\anaconda3\\lib\\site-packages (from httpx<1.0.0->datasets) (2025.7.14)\n",
      "Requirement already satisfied: httpcore==1.* in c:\\users\\alana\\anaconda3\\lib\\site-packages (from httpx<1.0.0->datasets) (1.0.7)\n",
      "Requirement already satisfied: idna in c:\\users\\alana\\anaconda3\\lib\\site-packages (from httpx<1.0.0->datasets) (3.4)\n",
      "Requirement already satisfied: h11<0.15,>=0.13 in c:\\users\\alana\\anaconda3\\lib\\site-packages (from httpcore==1.*->httpx<1.0.0->datasets) (0.14.0)\n",
      "Requirement already satisfied: typing-extensions>=3.7.4.3 in c:\\users\\alana\\anaconda3\\lib\\site-packages (from huggingface-hub<2.0,>=0.25.0->datasets) (4.12.2)\n",
      "Requirement already satisfied: charset_normalizer<4,>=2 in c:\\users\\alana\\anaconda3\\lib\\site-packages (from requests>=2.32.2->datasets) (2.0.4)\n",
      "Requirement already satisfied: urllib3<3,>=1.21.1 in c:\\users\\alana\\anaconda3\\lib\\site-packages (from requests>=2.32.2->datasets) (2.0.7)\n",
      "Requirement already satisfied: colorama in c:\\users\\alana\\anaconda3\\lib\\site-packages (from tqdm>=4.66.3->datasets) (0.4.6)\n",
      "Requirement already satisfied: python-dateutil>=2.8.2 in c:\\users\\alana\\anaconda3\\lib\\site-packages (from pandas->datasets) (2.8.2)\n",
      "Requirement already satisfied: pytz>=2020.1 in c:\\users\\alana\\anaconda3\\lib\\site-packages (from pandas->datasets) (2023.3.post1)\n",
      "Requirement already satisfied: tzdata>=2022.1 in c:\\users\\alana\\anaconda3\\lib\\site-packages (from pandas->datasets) (2023.3)\n",
      "Requirement already satisfied: aiosignal>=1.1.2 in c:\\users\\alana\\anaconda3\\lib\\site-packages (from aiohttp!=4.0.0a0,!=4.0.0a1->fsspec[http]<=2025.9.0,>=2023.1.0->datasets) (1.2.0)\n",
      "Requirement already satisfied: attrs>=17.3.0 in c:\\users\\alana\\anaconda3\\lib\\site-packages (from aiohttp!=4.0.0a0,!=4.0.0a1->fsspec[http]<=2025.9.0,>=2023.1.0->datasets) (23.1.0)\n",
      "Requirement already satisfied: frozenlist>=1.1.1 in c:\\users\\alana\\anaconda3\\lib\\site-packages (from aiohttp!=4.0.0a0,!=4.0.0a1->fsspec[http]<=2025.9.0,>=2023.1.0->datasets) (1.4.0)\n",
      "Requirement already satisfied: multidict<7.0,>=4.5 in c:\\users\\alana\\anaconda3\\lib\\site-packages (from aiohttp!=4.0.0a0,!=4.0.0a1->fsspec[http]<=2025.9.0,>=2023.1.0->datasets) (6.0.4)\n",
      "Requirement already satisfied: yarl<2.0,>=1.0 in c:\\users\\alana\\anaconda3\\lib\\site-packages (from aiohttp!=4.0.0a0,!=4.0.0a1->fsspec[http]<=2025.9.0,>=2023.1.0->datasets) (1.9.3)\n",
      "Requirement already satisfied: six>=1.5 in c:\\users\\alana\\anaconda3\\lib\\site-packages (from python-dateutil>=2.8.2->pandas->datasets) (1.16.0)\n",
      "Requirement already satisfied: sniffio>=1.1 in c:\\users\\alana\\anaconda3\\lib\\site-packages (from anyio->httpx<1.0.0->datasets) (1.3.0)\n"
     ]
    }
   ],
   "source": [
    "!pip install datasets"
   ]
  },
  {
   "cell_type": "code",
   "execution_count": 124,
   "id": "858267a0-70bb-4e7c-80e2-2cd78d8f0051",
   "metadata": {},
   "outputs": [],
   "source": [
    "from datasets import load_dataset\n",
    "import pandas as pd\n",
    "import re\n",
    "from sklearn.preprocessing import LabelEncoder\n",
    "from nltk.tokenize import word_tokenize\n",
    "from nltk.corpus import stopwords\n",
    "from nltk.stem import WordNetLemmatizer"
   ]
  },
  {
   "cell_type": "code",
   "execution_count": 125,
   "id": "ba5da755-be1e-41ba-b0b4-fa7546a73340",
   "metadata": {},
   "outputs": [],
   "source": [
    "dataset = load_dataset(\"knkarthick/dialogsum\")"
   ]
  },
  {
   "cell_type": "code",
   "execution_count": 126,
   "id": "47657b75-ed04-46b9-9fdb-85556f2381f4",
   "metadata": {},
   "outputs": [
    {
     "name": "stdout",
     "output_type": "stream",
     "text": [
      "DatasetDict({\n",
      "    train: Dataset({\n",
      "        features: ['id', 'dialogue', 'summary', 'topic'],\n",
      "        num_rows: 12460\n",
      "    })\n",
      "    validation: Dataset({\n",
      "        features: ['id', 'dialogue', 'summary', 'topic'],\n",
      "        num_rows: 500\n",
      "    })\n",
      "    test: Dataset({\n",
      "        features: ['id', 'dialogue', 'summary', 'topic'],\n",
      "        num_rows: 1500\n",
      "    })\n",
      "})\n"
     ]
    }
   ],
   "source": [
    "print(dataset)"
   ]
  },
  {
   "cell_type": "code",
   "execution_count": 127,
   "id": "0fed9258-6ad0-4c50-b830-10dcde73e637",
   "metadata": {},
   "outputs": [],
   "source": [
    "train_df = pd.DataFrame(dataset[\"train\"])\n",
    "val_df = pd.DataFrame(dataset[\"validation\"])\n",
    "test_df = pd.DataFrame(dataset[\"test\"])"
   ]
  },
  {
   "cell_type": "code",
   "execution_count": 128,
   "id": "c3c3d83e-3f58-4f29-8929-4d826abded06",
   "metadata": {},
   "outputs": [
    {
     "data": {
      "text/html": [
       "<div>\n",
       "<style scoped>\n",
       "    .dataframe tbody tr th:only-of-type {\n",
       "        vertical-align: middle;\n",
       "    }\n",
       "\n",
       "    .dataframe tbody tr th {\n",
       "        vertical-align: top;\n",
       "    }\n",
       "\n",
       "    .dataframe thead th {\n",
       "        text-align: right;\n",
       "    }\n",
       "</style>\n",
       "<table border=\"1\" class=\"dataframe\">\n",
       "  <thead>\n",
       "    <tr style=\"text-align: right;\">\n",
       "      <th></th>\n",
       "      <th>id</th>\n",
       "      <th>dialogue</th>\n",
       "      <th>summary</th>\n",
       "      <th>topic</th>\n",
       "    </tr>\n",
       "  </thead>\n",
       "  <tbody>\n",
       "    <tr>\n",
       "      <th>0</th>\n",
       "      <td>train_0</td>\n",
       "      <td>#Person1#: Hi, Mr. Smith. I'm Doctor Hawkins. ...</td>\n",
       "      <td>Mr. Smith's getting a check-up, and Doctor Haw...</td>\n",
       "      <td>get a check-up</td>\n",
       "    </tr>\n",
       "    <tr>\n",
       "      <th>1</th>\n",
       "      <td>train_1</td>\n",
       "      <td>#Person1#: Hello Mrs. Parker, how have you bee...</td>\n",
       "      <td>Mrs Parker takes Ricky for his vaccines. Dr. P...</td>\n",
       "      <td>vaccines</td>\n",
       "    </tr>\n",
       "    <tr>\n",
       "      <th>2</th>\n",
       "      <td>train_2</td>\n",
       "      <td>#Person1#: Excuse me, did you see a set of key...</td>\n",
       "      <td>#Person1#'s looking for a set of keys and asks...</td>\n",
       "      <td>find keys</td>\n",
       "    </tr>\n",
       "    <tr>\n",
       "      <th>3</th>\n",
       "      <td>train_3</td>\n",
       "      <td>#Person1#: Why didn't you tell me you had a gi...</td>\n",
       "      <td>#Person1#'s angry because #Person2# didn't tel...</td>\n",
       "      <td>have a girlfriend</td>\n",
       "    </tr>\n",
       "    <tr>\n",
       "      <th>4</th>\n",
       "      <td>train_4</td>\n",
       "      <td>#Person1#: Watsup, ladies! Y'll looking'fine t...</td>\n",
       "      <td>Malik invites Nikki to dance. Nikki agrees if ...</td>\n",
       "      <td>dance</td>\n",
       "    </tr>\n",
       "  </tbody>\n",
       "</table>\n",
       "</div>"
      ],
      "text/plain": [
       "        id                                           dialogue  \\\n",
       "0  train_0  #Person1#: Hi, Mr. Smith. I'm Doctor Hawkins. ...   \n",
       "1  train_1  #Person1#: Hello Mrs. Parker, how have you bee...   \n",
       "2  train_2  #Person1#: Excuse me, did you see a set of key...   \n",
       "3  train_3  #Person1#: Why didn't you tell me you had a gi...   \n",
       "4  train_4  #Person1#: Watsup, ladies! Y'll looking'fine t...   \n",
       "\n",
       "                                             summary              topic  \n",
       "0  Mr. Smith's getting a check-up, and Doctor Haw...     get a check-up  \n",
       "1  Mrs Parker takes Ricky for his vaccines. Dr. P...           vaccines  \n",
       "2  #Person1#'s looking for a set of keys and asks...          find keys  \n",
       "3  #Person1#'s angry because #Person2# didn't tel...  have a girlfriend  \n",
       "4  Malik invites Nikki to dance. Nikki agrees if ...              dance  "
      ]
     },
     "execution_count": 128,
     "metadata": {},
     "output_type": "execute_result"
    }
   ],
   "source": [
    "train_df.head()\n"
   ]
  },
  {
   "cell_type": "code",
   "execution_count": 129,
   "id": "93560af8-42b2-4d6b-9078-e2a0cd161ca6",
   "metadata": {},
   "outputs": [
    {
     "name": "stdout",
     "output_type": "stream",
     "text": [
      "<class 'pandas.core.frame.DataFrame'>\n",
      "RangeIndex: 12460 entries, 0 to 12459\n",
      "Data columns (total 4 columns):\n",
      " #   Column    Non-Null Count  Dtype \n",
      "---  ------    --------------  ----- \n",
      " 0   id        12460 non-null  object\n",
      " 1   dialogue  12460 non-null  object\n",
      " 2   summary   12460 non-null  object\n",
      " 3   topic     12460 non-null  object\n",
      "dtypes: object(4)\n",
      "memory usage: 389.5+ KB\n"
     ]
    }
   ],
   "source": [
    "train_df.info()"
   ]
  },
  {
   "cell_type": "code",
   "execution_count": 130,
   "id": "ad5aeec4-1614-4cfa-a4b1-8366d45b784e",
   "metadata": {},
   "outputs": [
    {
     "data": {
      "text/plain": [
       "id          0\n",
       "dialogue    0\n",
       "summary     0\n",
       "topic       0\n",
       "dtype: int64"
      ]
     },
     "execution_count": 130,
     "metadata": {},
     "output_type": "execute_result"
    }
   ],
   "source": [
    "train_df.isnull().sum()"
   ]
  },
  {
   "cell_type": "code",
   "execution_count": 131,
   "id": "665a442e-4126-42dd-8c49-ec2dcccf71ff",
   "metadata": {},
   "outputs": [
    {
     "data": {
      "text/plain": [
       "id          0\n",
       "dialogue    0\n",
       "summary     0\n",
       "topic       0\n",
       "dtype: int64"
      ]
     },
     "execution_count": 131,
     "metadata": {},
     "output_type": "execute_result"
    }
   ],
   "source": [
    "val_df.isnull().sum()"
   ]
  },
  {
   "cell_type": "code",
   "execution_count": 132,
   "id": "76517cff-ab56-44eb-ad50-0bd6ef9f048f",
   "metadata": {},
   "outputs": [
    {
     "data": {
      "text/plain": [
       "id          0\n",
       "dialogue    0\n",
       "summary     0\n",
       "topic       0\n",
       "dtype: int64"
      ]
     },
     "execution_count": 132,
     "metadata": {},
     "output_type": "execute_result"
    }
   ],
   "source": [
    "test_df.isnull().sum()"
   ]
  },
  {
   "cell_type": "code",
   "execution_count": 133,
   "id": "fc24685e-0b65-45f6-91ba-66b250981f33",
   "metadata": {},
   "outputs": [],
   "source": [
    "def replace_speaker_tags(text):\n",
    "    text = re.sub(r'#Person1#:', 'Speaker 1:', text)\n",
    "    text = re.sub(r'#Person2#:', 'Speaker 2:', text)\n",
    "    return re.sub(r'\\s+', ' ', text).strip()"
   ]
  },
  {
   "cell_type": "code",
   "execution_count": 134,
   "id": "d401f62c-bef4-45b0-9fe8-58cccc8cfd33",
   "metadata": {},
   "outputs": [],
   "source": [
    "train_df['cleaned_dialogue'] = train_df['dialogue'].apply(replace_speaker_tags)\n",
    "val_df['cleaned_dialogue'] = val_df['dialogue'].apply(replace_speaker_tags)\n",
    "test_df['cleaned_dialogue'] = test_df['dialogue'].apply(replace_speaker_tags)"
   ]
  },
  {
   "cell_type": "code",
   "execution_count": 135,
   "id": "32631767-4280-4511-b9ae-c22534f82ac5",
   "metadata": {},
   "outputs": [
    {
     "data": {
      "text/plain": [
       "\"Speaker 1: Hi, Mr. Smith. I'm Doctor Hawkins. Why are you here today? Speaker 2: I found it would be a good idea to get a check-up. Speaker 1: Yes, well, you haven't had one for 5 years. You should have one every year. Speaker 2: I know. I figure as long as there is nothing wrong, why go see the doctor? Speaker 1: Well, the best way to avoid serious illnesses is to find out about them early. So try to come at least once a year for your own good. Speaker 2: Ok. Speaker 1: Let me see here. Your eyes and ears look fine. Take a deep breath, please. Do you smoke, Mr. Smith? Speaker 2: Yes. Speaker 1: Smoking is the leading cause of lung cancer and heart disease, you know. You really should quit. Speaker 2: I've tried hundreds of times, but I just can't seem to kick the habit. Speaker 1: Well, we have classes and some medications that might help. I'll give you more information before you leave. Speaker 2: Ok, thanks doctor.\""
      ]
     },
     "execution_count": 135,
     "metadata": {},
     "output_type": "execute_result"
    }
   ],
   "source": [
    "train_df['cleaned_dialogue'][0]"
   ]
  },
  {
   "cell_type": "code",
   "execution_count": 136,
   "id": "5179c6f6-e4f0-40d8-9e7e-addca9568e2c",
   "metadata": {},
   "outputs": [
    {
     "data": {
      "text/plain": [
       "597"
      ]
     },
     "execution_count": 136,
     "metadata": {},
     "output_type": "execute_result"
    }
   ],
   "source": [
    "train_df['cleaned_dialogue'].duplicated().sum()"
   ]
  },
  {
   "cell_type": "code",
   "execution_count": 160,
   "id": "9c8623d1-5906-4c3b-91d0-05cdb3913082",
   "metadata": {},
   "outputs": [],
   "source": [
    "train_df.drop_duplicates(subset=['cleaned_dialogue'], inplace=True)\n",
    "test_df.drop_duplicates(subset=['cleaned_dialogue'], inplace=True)\n",
    "val_df.drop_duplicates(subset=['cleaned_dialogue'], inplace=True)"
   ]
  },
  {
   "cell_type": "code",
   "execution_count": 138,
   "id": "2714607a-5a7f-4fe3-9719-c02d14fe564b",
   "metadata": {},
   "outputs": [
    {
     "data": {
      "text/plain": [
       "(11863, 5)"
      ]
     },
     "execution_count": 138,
     "metadata": {},
     "output_type": "execute_result"
    }
   ],
   "source": [
    "train_df.shape"
   ]
  },
  {
   "cell_type": "code",
   "execution_count": 139,
   "id": "1f49e5c7-49e9-483f-b902-1c8da4a0e10f",
   "metadata": {},
   "outputs": [
    {
     "data": {
      "text/plain": [
       "topic\n",
       "job interview        158\n",
       "shopping             155\n",
       "daily casual talk    119\n",
       "phone call            88\n",
       "interview             75\n",
       "                    ... \n",
       "room is cold           1\n",
       "Wake up Call           1\n",
       "Products               1\n",
       "Order                  1\n",
       "baggage pack           1\n",
       "Name: count, Length: 7193, dtype: int64"
      ]
     },
     "execution_count": 139,
     "metadata": {},
     "output_type": "execute_result"
    }
   ],
   "source": [
    "train_df['topic'].value_counts()"
   ]
  },
  {
   "cell_type": "code",
   "execution_count": 142,
   "id": "3ba57146-7a66-42f5-bb14-e2da5a2a28cd",
   "metadata": {},
   "outputs": [
    {
     "data": {
      "text/html": [
       "<div>\n",
       "<style scoped>\n",
       "    .dataframe tbody tr th:only-of-type {\n",
       "        vertical-align: middle;\n",
       "    }\n",
       "\n",
       "    .dataframe tbody tr th {\n",
       "        vertical-align: top;\n",
       "    }\n",
       "\n",
       "    .dataframe thead th {\n",
       "        text-align: right;\n",
       "    }\n",
       "</style>\n",
       "<table border=\"1\" class=\"dataframe\">\n",
       "  <thead>\n",
       "    <tr style=\"text-align: right;\">\n",
       "      <th></th>\n",
       "      <th>id</th>\n",
       "      <th>dialogue</th>\n",
       "      <th>summary</th>\n",
       "      <th>topic</th>\n",
       "      <th>cleaned_dialogue</th>\n",
       "    </tr>\n",
       "  </thead>\n",
       "  <tbody>\n",
       "    <tr>\n",
       "      <th>0</th>\n",
       "      <td>train_0</td>\n",
       "      <td>#Person1#: Hi, Mr. Smith. I'm Doctor Hawkins. ...</td>\n",
       "      <td>Mr. Smith's getting a check-up, and Doctor Haw...</td>\n",
       "      <td>get a check-up</td>\n",
       "      <td>Speaker 1: Hi, Mr. Smith. I'm Doctor Hawkins. ...</td>\n",
       "    </tr>\n",
       "    <tr>\n",
       "      <th>1</th>\n",
       "      <td>train_1</td>\n",
       "      <td>#Person1#: Hello Mrs. Parker, how have you bee...</td>\n",
       "      <td>Mrs Parker takes Ricky for his vaccines. Dr. P...</td>\n",
       "      <td>vaccines</td>\n",
       "      <td>Speaker 1: Hello Mrs. Parker, how have you bee...</td>\n",
       "    </tr>\n",
       "    <tr>\n",
       "      <th>2</th>\n",
       "      <td>train_2</td>\n",
       "      <td>#Person1#: Excuse me, did you see a set of key...</td>\n",
       "      <td>#Person1#'s looking for a set of keys and asks...</td>\n",
       "      <td>find keys</td>\n",
       "      <td>Speaker 1: Excuse me, did you see a set of key...</td>\n",
       "    </tr>\n",
       "    <tr>\n",
       "      <th>3</th>\n",
       "      <td>train_3</td>\n",
       "      <td>#Person1#: Why didn't you tell me you had a gi...</td>\n",
       "      <td>#Person1#'s angry because #Person2# didn't tel...</td>\n",
       "      <td>have a girlfriend</td>\n",
       "      <td>Speaker 1: Why didn't you tell me you had a gi...</td>\n",
       "    </tr>\n",
       "    <tr>\n",
       "      <th>4</th>\n",
       "      <td>train_4</td>\n",
       "      <td>#Person1#: Watsup, ladies! Y'll looking'fine t...</td>\n",
       "      <td>Malik invites Nikki to dance. Nikki agrees if ...</td>\n",
       "      <td>dance</td>\n",
       "      <td>Speaker 1: Watsup, ladies! Y'll looking'fine t...</td>\n",
       "    </tr>\n",
       "  </tbody>\n",
       "</table>\n",
       "</div>"
      ],
      "text/plain": [
       "        id                                           dialogue  \\\n",
       "0  train_0  #Person1#: Hi, Mr. Smith. I'm Doctor Hawkins. ...   \n",
       "1  train_1  #Person1#: Hello Mrs. Parker, how have you bee...   \n",
       "2  train_2  #Person1#: Excuse me, did you see a set of key...   \n",
       "3  train_3  #Person1#: Why didn't you tell me you had a gi...   \n",
       "4  train_4  #Person1#: Watsup, ladies! Y'll looking'fine t...   \n",
       "\n",
       "                                             summary              topic  \\\n",
       "0  Mr. Smith's getting a check-up, and Doctor Haw...     get a check-up   \n",
       "1  Mrs Parker takes Ricky for his vaccines. Dr. P...           vaccines   \n",
       "2  #Person1#'s looking for a set of keys and asks...          find keys   \n",
       "3  #Person1#'s angry because #Person2# didn't tel...  have a girlfriend   \n",
       "4  Malik invites Nikki to dance. Nikki agrees if ...              dance   \n",
       "\n",
       "                                    cleaned_dialogue  \n",
       "0  Speaker 1: Hi, Mr. Smith. I'm Doctor Hawkins. ...  \n",
       "1  Speaker 1: Hello Mrs. Parker, how have you bee...  \n",
       "2  Speaker 1: Excuse me, did you see a set of key...  \n",
       "3  Speaker 1: Why didn't you tell me you had a gi...  \n",
       "4  Speaker 1: Watsup, ladies! Y'll looking'fine t...  "
      ]
     },
     "execution_count": 142,
     "metadata": {},
     "output_type": "execute_result"
    }
   ],
   "source": [
    "train_df.head()"
   ]
  },
  {
   "cell_type": "code",
   "execution_count": 143,
   "id": "6fa2c5dd-0d78-4e01-8690-d0e259915d37",
   "metadata": {},
   "outputs": [],
   "source": [
    "def basic_clean(text):\n",
    "    text = text.lower()\n",
    "    text = re.sub(r'[^a-z\\s]', '', text)\n",
    "    return text"
   ]
  },
  {
   "cell_type": "code",
   "execution_count": 144,
   "id": "3b0634c4-cde6-4efd-bafa-4a52395af6ed",
   "metadata": {},
   "outputs": [],
   "source": [
    "train_df['cleaned_dialogue'] = train_df['cleaned_dialogue'].apply(basic_clean)\n",
    "test_df['cleaned_dialogue'] = test_df['cleaned_dialogue'].apply(basic_clean)\n",
    "val_df['cleaned_dialogue'] = val_df['cleaned_dialogue'].apply(basic_clean)"
   ]
  },
  {
   "cell_type": "code",
   "execution_count": 145,
   "id": "1d558ebe-e89a-4e84-9cfa-c355298c8823",
   "metadata": {},
   "outputs": [],
   "source": [
    "train_df['tokens'] = train_df['cleaned_dialogue'].apply(word_tokenize)\n",
    "test_df['tokens'] = test_df['cleaned_dialogue'].apply(word_tokenize)\n",
    "val_df['tokens'] = val_df['cleaned_dialogue'].apply(word_tokenize)"
   ]
  },
  {
   "cell_type": "code",
   "execution_count": 146,
   "id": "5800809c-694e-4d4f-8219-2fae5b9f1f1d",
   "metadata": {},
   "outputs": [],
   "source": [
    "stop_words = set(stopwords.words('english'))"
   ]
  },
  {
   "cell_type": "code",
   "execution_count": 147,
   "id": "249f2cee-d268-4cf3-8da5-0da979b844f5",
   "metadata": {},
   "outputs": [],
   "source": [
    "train_df['tokens'] = train_df['tokens'].apply(lambda x: [word for word in x if word not in stop_words])\n",
    "test_df['tokens'] = test_df['tokens'].apply(lambda x: [word for word in x if word not in stop_words])\n",
    "val_df['tokens'] = val_df['tokens'].apply(lambda x: [word for word in x if word not in stop_words])"
   ]
  },
  {
   "cell_type": "code",
   "execution_count": 148,
   "id": "26bdc512-8a12-4010-8b56-7ea539eb1934",
   "metadata": {},
   "outputs": [],
   "source": [
    "lemmatizer = WordNetLemmatizer()"
   ]
  },
  {
   "cell_type": "code",
   "execution_count": 149,
   "id": "bf0d2cc9-cb4e-47c8-a902-1eb50aba3085",
   "metadata": {},
   "outputs": [],
   "source": [
    "train_df['tokens'] = train_df['tokens'].apply(lambda x: [lemmatizer.lemmatize(word) for word in x])\n",
    "test_df['tokens'] = test_df['tokens'].apply(lambda x: [lemmatizer.lemmatize(word) for word in x])\n",
    "val_df['tokens'] = val_df['tokens'].apply(lambda x: [lemmatizer.lemmatize(word) for word in x])"
   ]
  },
  {
   "cell_type": "code",
   "execution_count": 150,
   "id": "14d5bb65-0e86-464e-a34e-2d0a9558b897",
   "metadata": {},
   "outputs": [],
   "source": [
    "train_df['cleaned_dialogue'] = train_df['tokens'].apply(lambda x: ' '.join(x))\n",
    "test_df['cleaned_dialogue'] = test_df['tokens'].apply(lambda x: ' '.join(x))\n",
    "val_df['cleaned_dialogue'] = val_df['tokens'].apply(lambda x: ' '.join(x))"
   ]
  },
  {
   "cell_type": "code",
   "execution_count": 151,
   "id": "89a10183-fa83-4a67-a88f-1420862a2aac",
   "metadata": {},
   "outputs": [],
   "source": [
    "train_df['dialogue_length'] = train_df['cleaned_dialogue'].apply(lambda x: len(x.split()))\n",
    "train_df['summary_length'] = train_df['summary'].apply(lambda x: len(x.split()))"
   ]
  },
  {
   "cell_type": "code",
   "execution_count": 152,
   "id": "4064faab-a41c-467a-b411-60b2cd918770",
   "metadata": {},
   "outputs": [],
   "source": [
    "test_df['dialogue_length'] = test_df['cleaned_dialogue'].apply(lambda x: len(x.split()))\n",
    "test_df['summary_length'] = test_df['summary'].apply(lambda x: len(x.split()))"
   ]
  },
  {
   "cell_type": "code",
   "execution_count": 153,
   "id": "95d89036-abd6-4dc4-987b-5795287fdfa6",
   "metadata": {},
   "outputs": [],
   "source": [
    "val_df['dialogue_length'] = val_df['cleaned_dialogue'].apply(lambda x: len(x.split()))\n",
    "val_df['summary_length'] = val_df['summary'].apply(lambda x: len(x.split()))"
   ]
  },
  {
   "cell_type": "code",
   "execution_count": 154,
   "id": "19a85dd7-e272-4fb1-b9e8-fce506a1cf29",
   "metadata": {},
   "outputs": [],
   "source": [
    "encoder = LabelEncoder()\n",
    "train_df['topic_encoded'] = encoder.fit_transform(train_df['topic'])"
   ]
  },
  {
   "cell_type": "code",
   "execution_count": 156,
   "id": "30ef8af4-0848-4140-bce7-2153cc4f9f18",
   "metadata": {},
   "outputs": [],
   "source": [
    "val_df = val_df[val_df['topic'].isin(encoder.classes_)]\n",
    "val_df['topic_encoded'] = encoder.transform(val_df['topic'])"
   ]
  },
  {
   "cell_type": "code",
   "execution_count": 157,
   "id": "ce6b37b7-1381-4686-9da4-d021c2bbda53",
   "metadata": {},
   "outputs": [],
   "source": [
    "test_df = test_df[test_df['topic'].isin(encoder.classes_)]\n",
    "test_df['topic_encoded'] = encoder.transform(test_df['topic'])"
   ]
  },
  {
   "cell_type": "code",
   "execution_count": 158,
   "id": "7adf1ab5-9141-4c2f-bbe2-e87cfcd53b3a",
   "metadata": {},
   "outputs": [
    {
     "data": {
      "text/html": [
       "<div>\n",
       "<style scoped>\n",
       "    .dataframe tbody tr th:only-of-type {\n",
       "        vertical-align: middle;\n",
       "    }\n",
       "\n",
       "    .dataframe tbody tr th {\n",
       "        vertical-align: top;\n",
       "    }\n",
       "\n",
       "    .dataframe thead th {\n",
       "        text-align: right;\n",
       "    }\n",
       "</style>\n",
       "<table border=\"1\" class=\"dataframe\">\n",
       "  <thead>\n",
       "    <tr style=\"text-align: right;\">\n",
       "      <th></th>\n",
       "      <th>id</th>\n",
       "      <th>dialogue</th>\n",
       "      <th>summary</th>\n",
       "      <th>topic</th>\n",
       "      <th>cleaned_dialogue</th>\n",
       "      <th>tokens</th>\n",
       "      <th>dialogue_length</th>\n",
       "      <th>summary_length</th>\n",
       "      <th>topic_encoded</th>\n",
       "    </tr>\n",
       "  </thead>\n",
       "  <tbody>\n",
       "    <tr>\n",
       "      <th>0</th>\n",
       "      <td>train_0</td>\n",
       "      <td>#Person1#: Hi, Mr. Smith. I'm Doctor Hawkins. ...</td>\n",
       "      <td>Mr. Smith's getting a check-up, and Doctor Haw...</td>\n",
       "      <td>get a check-up</td>\n",
       "      <td>speaker hi mr smith im doctor hawkins today sp...</td>\n",
       "      <td>[speaker, hi, mr, smith, im, doctor, hawkins, ...</td>\n",
       "      <td>99</td>\n",
       "      <td>30</td>\n",
       "      <td>3544</td>\n",
       "    </tr>\n",
       "    <tr>\n",
       "      <th>1</th>\n",
       "      <td>train_1</td>\n",
       "      <td>#Person1#: Hello Mrs. Parker, how have you bee...</td>\n",
       "      <td>Mrs Parker takes Ricky for his vaccines. Dr. P...</td>\n",
       "      <td>vaccines</td>\n",
       "      <td>speaker hello mr parker speaker hello dr peter...</td>\n",
       "      <td>[speaker, hello, mr, parker, speaker, hello, d...</td>\n",
       "      <td>76</td>\n",
       "      <td>18</td>\n",
       "      <td>6890</td>\n",
       "    </tr>\n",
       "    <tr>\n",
       "      <th>2</th>\n",
       "      <td>train_2</td>\n",
       "      <td>#Person1#: Excuse me, did you see a set of key...</td>\n",
       "      <td>#Person1#'s looking for a set of keys and asks...</td>\n",
       "      <td>find keys</td>\n",
       "      <td>speaker excuse see set key speaker kind key sp...</td>\n",
       "      <td>[speaker, excuse, see, set, key, speaker, kind...</td>\n",
       "      <td>51</td>\n",
       "      <td>15</td>\n",
       "      <td>3360</td>\n",
       "    </tr>\n",
       "    <tr>\n",
       "      <th>3</th>\n",
       "      <td>train_3</td>\n",
       "      <td>#Person1#: Why didn't you tell me you had a gi...</td>\n",
       "      <td>#Person1#'s angry because #Person2# didn't tel...</td>\n",
       "      <td>have a girlfriend</td>\n",
       "      <td>speaker didnt tell girlfriend speaker sorry th...</td>\n",
       "      <td>[speaker, didnt, tell, girlfriend, speaker, so...</td>\n",
       "      <td>43</td>\n",
       "      <td>16</td>\n",
       "      <td>3816</td>\n",
       "    </tr>\n",
       "    <tr>\n",
       "      <th>4</th>\n",
       "      <td>train_4</td>\n",
       "      <td>#Person1#: Watsup, ladies! Y'll looking'fine t...</td>\n",
       "      <td>Malik invites Nikki to dance. Nikki agrees if ...</td>\n",
       "      <td>dance</td>\n",
       "      <td>speaker watsup lady yll lookingfine tonight ma...</td>\n",
       "      <td>[speaker, watsup, lady, yll, lookingfine, toni...</td>\n",
       "      <td>52</td>\n",
       "      <td>16</td>\n",
       "      <td>2708</td>\n",
       "    </tr>\n",
       "  </tbody>\n",
       "</table>\n",
       "</div>"
      ],
      "text/plain": [
       "        id                                           dialogue  \\\n",
       "0  train_0  #Person1#: Hi, Mr. Smith. I'm Doctor Hawkins. ...   \n",
       "1  train_1  #Person1#: Hello Mrs. Parker, how have you bee...   \n",
       "2  train_2  #Person1#: Excuse me, did you see a set of key...   \n",
       "3  train_3  #Person1#: Why didn't you tell me you had a gi...   \n",
       "4  train_4  #Person1#: Watsup, ladies! Y'll looking'fine t...   \n",
       "\n",
       "                                             summary              topic  \\\n",
       "0  Mr. Smith's getting a check-up, and Doctor Haw...     get a check-up   \n",
       "1  Mrs Parker takes Ricky for his vaccines. Dr. P...           vaccines   \n",
       "2  #Person1#'s looking for a set of keys and asks...          find keys   \n",
       "3  #Person1#'s angry because #Person2# didn't tel...  have a girlfriend   \n",
       "4  Malik invites Nikki to dance. Nikki agrees if ...              dance   \n",
       "\n",
       "                                    cleaned_dialogue  \\\n",
       "0  speaker hi mr smith im doctor hawkins today sp...   \n",
       "1  speaker hello mr parker speaker hello dr peter...   \n",
       "2  speaker excuse see set key speaker kind key sp...   \n",
       "3  speaker didnt tell girlfriend speaker sorry th...   \n",
       "4  speaker watsup lady yll lookingfine tonight ma...   \n",
       "\n",
       "                                              tokens  dialogue_length  \\\n",
       "0  [speaker, hi, mr, smith, im, doctor, hawkins, ...               99   \n",
       "1  [speaker, hello, mr, parker, speaker, hello, d...               76   \n",
       "2  [speaker, excuse, see, set, key, speaker, kind...               51   \n",
       "3  [speaker, didnt, tell, girlfriend, speaker, so...               43   \n",
       "4  [speaker, watsup, lady, yll, lookingfine, toni...               52   \n",
       "\n",
       "   summary_length  topic_encoded  \n",
       "0              30           3544  \n",
       "1              18           6890  \n",
       "2              15           3360  \n",
       "3              16           3816  \n",
       "4              16           2708  "
      ]
     },
     "execution_count": 158,
     "metadata": {},
     "output_type": "execute_result"
    }
   ],
   "source": [
    "train_df.head()"
   ]
  },
  {
   "cell_type": "code",
   "execution_count": 165,
   "id": "1e42a638-2e42-47ac-bebd-c9ffc75a4c4e",
   "metadata": {},
   "outputs": [
    {
     "data": {
      "text/plain": [
       "(11452, 9)"
      ]
     },
     "execution_count": 165,
     "metadata": {},
     "output_type": "execute_result"
    }
   ],
   "source": [
    "train_df.shape"
   ]
  },
  {
   "cell_type": "code",
   "execution_count": 161,
   "id": "da7b0418-1d44-4aed-b3ee-d39a8daa33b3",
   "metadata": {},
   "outputs": [
    {
     "data": {
      "text/html": [
       "<div>\n",
       "<style scoped>\n",
       "    .dataframe tbody tr th:only-of-type {\n",
       "        vertical-align: middle;\n",
       "    }\n",
       "\n",
       "    .dataframe tbody tr th {\n",
       "        vertical-align: top;\n",
       "    }\n",
       "\n",
       "    .dataframe thead th {\n",
       "        text-align: right;\n",
       "    }\n",
       "</style>\n",
       "<table border=\"1\" class=\"dataframe\">\n",
       "  <thead>\n",
       "    <tr style=\"text-align: right;\">\n",
       "      <th></th>\n",
       "      <th>id</th>\n",
       "      <th>dialogue</th>\n",
       "      <th>summary</th>\n",
       "      <th>topic</th>\n",
       "      <th>cleaned_dialogue</th>\n",
       "      <th>tokens</th>\n",
       "      <th>dialogue_length</th>\n",
       "      <th>summary_length</th>\n",
       "      <th>topic_encoded</th>\n",
       "    </tr>\n",
       "  </thead>\n",
       "  <tbody>\n",
       "    <tr>\n",
       "      <th>0</th>\n",
       "      <td>dev_0</td>\n",
       "      <td>#Person1#: Hello, how are you doing today?\\n#P...</td>\n",
       "      <td>#Person2# has trouble breathing. The doctor as...</td>\n",
       "      <td>see a doctor</td>\n",
       "      <td>speaker hello today speaker trouble breathing ...</td>\n",
       "      <td>[speaker, hello, today, speaker, trouble, brea...</td>\n",
       "      <td>45</td>\n",
       "      <td>18</td>\n",
       "      <td>5834</td>\n",
       "    </tr>\n",
       "    <tr>\n",
       "      <th>4</th>\n",
       "      <td>dev_4</td>\n",
       "      <td>#Person1#: Did you go to school today?\\n#Perso...</td>\n",
       "      <td>#Person1# didn't go to school today. #Person2#...</td>\n",
       "      <td>go to school</td>\n",
       "      <td>speaker go school today speaker course speaker...</td>\n",
       "      <td>[speaker, go, school, today, speaker, course, ...</td>\n",
       "      <td>50</td>\n",
       "      <td>17</td>\n",
       "      <td>3697</td>\n",
       "    </tr>\n",
       "    <tr>\n",
       "      <th>5</th>\n",
       "      <td>dev_5</td>\n",
       "      <td>#Person1#: Honey, I think you should quit smok...</td>\n",
       "      <td>#Person1# asks #Person2# to quit smoking for h...</td>\n",
       "      <td>quit smoking</td>\n",
       "      <td>speaker honey think quit smoking speaker said ...</td>\n",
       "      <td>[speaker, honey, think, quit, smoking, speaker...</td>\n",
       "      <td>51</td>\n",
       "      <td>14</td>\n",
       "      <td>5458</td>\n",
       "    </tr>\n",
       "    <tr>\n",
       "      <th>7</th>\n",
       "      <td>dev_7</td>\n",
       "      <td>#Person1#: Hey, Karen. Look like you got some ...</td>\n",
       "      <td>#Person1# asks Karen where Karen stayed and ho...</td>\n",
       "      <td>holidays</td>\n",
       "      <td>speaker hey karen look like got sun weekend sp...</td>\n",
       "      <td>[speaker, hey, karen, look, like, got, sun, we...</td>\n",
       "      <td>75</td>\n",
       "      <td>24</td>\n",
       "      <td>3918</td>\n",
       "    </tr>\n",
       "    <tr>\n",
       "      <th>8</th>\n",
       "      <td>dev_8</td>\n",
       "      <td>#Person1#: How do you usually spend your leisu...</td>\n",
       "      <td>#Person1# asks about #Person2#'s hobbies. #Per...</td>\n",
       "      <td>hobby</td>\n",
       "      <td>speaker usually spend leisure time mean specia...</td>\n",
       "      <td>[speaker, usually, spend, leisure, time, mean,...</td>\n",
       "      <td>47</td>\n",
       "      <td>13</td>\n",
       "      <td>3906</td>\n",
       "    </tr>\n",
       "  </tbody>\n",
       "</table>\n",
       "</div>"
      ],
      "text/plain": [
       "      id                                           dialogue  \\\n",
       "0  dev_0  #Person1#: Hello, how are you doing today?\\n#P...   \n",
       "4  dev_4  #Person1#: Did you go to school today?\\n#Perso...   \n",
       "5  dev_5  #Person1#: Honey, I think you should quit smok...   \n",
       "7  dev_7  #Person1#: Hey, Karen. Look like you got some ...   \n",
       "8  dev_8  #Person1#: How do you usually spend your leisu...   \n",
       "\n",
       "                                             summary         topic  \\\n",
       "0  #Person2# has trouble breathing. The doctor as...  see a doctor   \n",
       "4  #Person1# didn't go to school today. #Person2#...  go to school   \n",
       "5  #Person1# asks #Person2# to quit smoking for h...  quit smoking   \n",
       "7  #Person1# asks Karen where Karen stayed and ho...      holidays   \n",
       "8  #Person1# asks about #Person2#'s hobbies. #Per...         hobby   \n",
       "\n",
       "                                    cleaned_dialogue  \\\n",
       "0  speaker hello today speaker trouble breathing ...   \n",
       "4  speaker go school today speaker course speaker...   \n",
       "5  speaker honey think quit smoking speaker said ...   \n",
       "7  speaker hey karen look like got sun weekend sp...   \n",
       "8  speaker usually spend leisure time mean specia...   \n",
       "\n",
       "                                              tokens  dialogue_length  \\\n",
       "0  [speaker, hello, today, speaker, trouble, brea...               45   \n",
       "4  [speaker, go, school, today, speaker, course, ...               50   \n",
       "5  [speaker, honey, think, quit, smoking, speaker...               51   \n",
       "7  [speaker, hey, karen, look, like, got, sun, we...               75   \n",
       "8  [speaker, usually, spend, leisure, time, mean,...               47   \n",
       "\n",
       "   summary_length  topic_encoded  \n",
       "0              18           5834  \n",
       "4              17           3697  \n",
       "5              14           5458  \n",
       "7              24           3918  \n",
       "8              13           3906  "
      ]
     },
     "execution_count": 161,
     "metadata": {},
     "output_type": "execute_result"
    }
   ],
   "source": [
    "val_df.head()"
   ]
  },
  {
   "cell_type": "code",
   "execution_count": 164,
   "id": "8c6f8e95-7b22-40cd-9f96-4304bba290ef",
   "metadata": {},
   "outputs": [
    {
     "data": {
      "text/plain": [
       "(230, 9)"
      ]
     },
     "execution_count": 164,
     "metadata": {},
     "output_type": "execute_result"
    }
   ],
   "source": [
    "val_df.shape"
   ]
  },
  {
   "cell_type": "code",
   "execution_count": 162,
   "id": "5e52df9c-143c-4df4-bc93-7dcaa80ec8f5",
   "metadata": {},
   "outputs": [
    {
     "data": {
      "text/html": [
       "<div>\n",
       "<style scoped>\n",
       "    .dataframe tbody tr th:only-of-type {\n",
       "        vertical-align: middle;\n",
       "    }\n",
       "\n",
       "    .dataframe tbody tr th {\n",
       "        vertical-align: top;\n",
       "    }\n",
       "\n",
       "    .dataframe thead th {\n",
       "        text-align: right;\n",
       "    }\n",
       "</style>\n",
       "<table border=\"1\" class=\"dataframe\">\n",
       "  <thead>\n",
       "    <tr style=\"text-align: right;\">\n",
       "      <th></th>\n",
       "      <th>id</th>\n",
       "      <th>dialogue</th>\n",
       "      <th>summary</th>\n",
       "      <th>topic</th>\n",
       "      <th>cleaned_dialogue</th>\n",
       "      <th>tokens</th>\n",
       "      <th>dialogue_length</th>\n",
       "      <th>summary_length</th>\n",
       "      <th>topic_encoded</th>\n",
       "    </tr>\n",
       "  </thead>\n",
       "  <tbody>\n",
       "    <tr>\n",
       "      <th>1</th>\n",
       "      <td>test_0_2</td>\n",
       "      <td>#Person1#: Ms. Dawson, I need you to take a di...</td>\n",
       "      <td>In order to prevent employees from wasting tim...</td>\n",
       "      <td>company policy</td>\n",
       "      <td>speaker m dawson need take dictation speaker y...</td>\n",
       "      <td>[speaker, m, dawson, need, take, dictation, sp...</td>\n",
       "      <td>125</td>\n",
       "      <td>36</td>\n",
       "      <td>2492</td>\n",
       "    </tr>\n",
       "    <tr>\n",
       "      <th>3</th>\n",
       "      <td>test_1_1</td>\n",
       "      <td>#Person1#: You're finally here! What took so l...</td>\n",
       "      <td>#Person2# arrives late because of traffic jam....</td>\n",
       "      <td>public transportation</td>\n",
       "      <td>speaker youre finally took long speaker got st...</td>\n",
       "      <td>[speaker, youre, finally, took, long, speaker,...</td>\n",
       "      <td>113</td>\n",
       "      <td>22</td>\n",
       "      <td>5405</td>\n",
       "    </tr>\n",
       "    <tr>\n",
       "      <th>6</th>\n",
       "      <td>test_2_1</td>\n",
       "      <td>#Person1#: Kate, you never believe what's happ...</td>\n",
       "      <td>#Person1# tells Kate that Masha and Hero get d...</td>\n",
       "      <td>divorce</td>\n",
       "      <td>speaker kate never believe whats happened spea...</td>\n",
       "      <td>[speaker, kate, never, believe, whats, happene...</td>\n",
       "      <td>73</td>\n",
       "      <td>19</td>\n",
       "      <td>2948</td>\n",
       "    </tr>\n",
       "    <tr>\n",
       "      <th>9</th>\n",
       "      <td>test_3_1</td>\n",
       "      <td>#Person1#: Happy Birthday, this is for you, Br...</td>\n",
       "      <td>#Person1# and Brian are at the birthday party ...</td>\n",
       "      <td>birthday party</td>\n",
       "      <td>speaker happy birthday brian speaker im happy ...</td>\n",
       "      <td>[speaker, happy, birthday, brian, speaker, im,...</td>\n",
       "      <td>62</td>\n",
       "      <td>18</td>\n",
       "      <td>1731</td>\n",
       "    </tr>\n",
       "    <tr>\n",
       "      <th>21</th>\n",
       "      <td>test_7_1</td>\n",
       "      <td>#Person1#: Good coming. What can I do for you?...</td>\n",
       "      <td>#Person2# is checking out and asks #Person1# f...</td>\n",
       "      <td>bill</td>\n",
       "      <td>speaker good coming speaker im room im checkin...</td>\n",
       "      <td>[speaker, good, coming, speaker, im, room, im,...</td>\n",
       "      <td>64</td>\n",
       "      <td>21</td>\n",
       "      <td>1718</td>\n",
       "    </tr>\n",
       "  </tbody>\n",
       "</table>\n",
       "</div>"
      ],
      "text/plain": [
       "          id                                           dialogue  \\\n",
       "1   test_0_2  #Person1#: Ms. Dawson, I need you to take a di...   \n",
       "3   test_1_1  #Person1#: You're finally here! What took so l...   \n",
       "6   test_2_1  #Person1#: Kate, you never believe what's happ...   \n",
       "9   test_3_1  #Person1#: Happy Birthday, this is for you, Br...   \n",
       "21  test_7_1  #Person1#: Good coming. What can I do for you?...   \n",
       "\n",
       "                                              summary                  topic  \\\n",
       "1   In order to prevent employees from wasting tim...         company policy   \n",
       "3   #Person2# arrives late because of traffic jam....  public transportation   \n",
       "6   #Person1# tells Kate that Masha and Hero get d...                divorce   \n",
       "9   #Person1# and Brian are at the birthday party ...         birthday party   \n",
       "21  #Person2# is checking out and asks #Person1# f...                   bill   \n",
       "\n",
       "                                     cleaned_dialogue  \\\n",
       "1   speaker m dawson need take dictation speaker y...   \n",
       "3   speaker youre finally took long speaker got st...   \n",
       "6   speaker kate never believe whats happened spea...   \n",
       "9   speaker happy birthday brian speaker im happy ...   \n",
       "21  speaker good coming speaker im room im checkin...   \n",
       "\n",
       "                                               tokens  dialogue_length  \\\n",
       "1   [speaker, m, dawson, need, take, dictation, sp...              125   \n",
       "3   [speaker, youre, finally, took, long, speaker,...              113   \n",
       "6   [speaker, kate, never, believe, whats, happene...               73   \n",
       "9   [speaker, happy, birthday, brian, speaker, im,...               62   \n",
       "21  [speaker, good, coming, speaker, im, room, im,...               64   \n",
       "\n",
       "    summary_length  topic_encoded  \n",
       "1               36           2492  \n",
       "3               22           5405  \n",
       "6               19           2948  \n",
       "9               18           1731  \n",
       "21              21           1718  "
      ]
     },
     "execution_count": 162,
     "metadata": {},
     "output_type": "execute_result"
    }
   ],
   "source": [
    "test_df.head()"
   ]
  },
  {
   "cell_type": "code",
   "execution_count": 163,
   "id": "39709c7b-c3fe-45c9-8e42-e8bccaa15645",
   "metadata": {},
   "outputs": [
    {
     "data": {
      "text/plain": [
       "(318, 9)"
      ]
     },
     "execution_count": 163,
     "metadata": {},
     "output_type": "execute_result"
    }
   ],
   "source": [
    "test_df.shape"
   ]
  },
  {
   "cell_type": "code",
   "execution_count": null,
   "id": "6c1c38b5-994a-43cd-8ca9-78d254da952c",
   "metadata": {},
   "outputs": [],
   "source": []
  },
  {
   "cell_type": "code",
   "execution_count": 166,
   "id": "bbb65efe-8907-4ebd-b00a-0c1a4ff73847",
   "metadata": {},
   "outputs": [],
   "source": [
    "train_data = train_df[['cleaned_dialogue', 'summary', 'topic']]\n",
    "val_data = val_df[['cleaned_dialogue', 'summary', 'topic']]\n",
    "test_data = test_df[['cleaned_dialogue', 'summary', 'topic']]"
   ]
  },
  {
   "cell_type": "code",
   "execution_count": 167,
   "id": "c475f171-5a37-43e2-b85c-bbbd9510feb3",
   "metadata": {},
   "outputs": [],
   "source": [
    "train_df.to_csv('cleaned_train.csv', index=False)\n",
    "val_df.to_csv('cleaned_val.csv', index=False)\n",
    "test_df.to_csv('cleaned_test.csv', index=False)"
   ]
  },
  {
   "cell_type": "code",
   "execution_count": null,
   "id": "ffcfebee-a8ab-482c-b6e1-c0d95aa21caa",
   "metadata": {},
   "outputs": [],
   "source": []
  },
  {
   "cell_type": "code",
   "execution_count": null,
   "id": "aae81763-8c74-4399-95ce-3c699b552e43",
   "metadata": {},
   "outputs": [],
   "source": []
  },
  {
   "cell_type": "code",
   "execution_count": null,
   "id": "ff4e09d9-2043-4e83-853a-0f8f3a00a39a",
   "metadata": {},
   "outputs": [],
   "source": []
  },
  {
   "cell_type": "code",
   "execution_count": null,
   "id": "e75c6093-0ca1-497c-b9d0-a6fe124749f1",
   "metadata": {},
   "outputs": [],
   "source": []
  },
  {
   "cell_type": "code",
   "execution_count": null,
   "id": "93170583-49e3-473f-b697-a6e6d3135242",
   "metadata": {},
   "outputs": [],
   "source": []
  },
  {
   "cell_type": "code",
   "execution_count": null,
   "id": "fd8d6825-feda-4e74-99ad-4dabebafbea6",
   "metadata": {},
   "outputs": [],
   "source": []
  },
  {
   "cell_type": "code",
   "execution_count": null,
   "id": "44f23f16-764a-4e77-9d44-4bcaf9419daa",
   "metadata": {},
   "outputs": [],
   "source": []
  },
  {
   "cell_type": "code",
   "execution_count": null,
   "id": "71407cae-047c-4207-9c0d-6755c991c015",
   "metadata": {},
   "outputs": [],
   "source": []
  },
  {
   "cell_type": "code",
   "execution_count": null,
   "id": "18db40bf-6aaa-47d6-a32b-4ede3362512b",
   "metadata": {},
   "outputs": [],
   "source": []
  },
  {
   "cell_type": "code",
   "execution_count": null,
   "id": "cf782258-0e8a-4fd6-86a6-95757aff88b6",
   "metadata": {},
   "outputs": [],
   "source": []
  },
  {
   "cell_type": "code",
   "execution_count": null,
   "id": "da48546f-3f98-40f2-b590-27e1e15faa3b",
   "metadata": {},
   "outputs": [],
   "source": []
  },
  {
   "cell_type": "code",
   "execution_count": null,
   "id": "f35888cd-7b0e-4019-b4f8-c6f34273c50e",
   "metadata": {},
   "outputs": [],
   "source": []
  },
  {
   "cell_type": "code",
   "execution_count": null,
   "id": "1ec42bbf-0461-4bfd-b7df-0228cdf325b4",
   "metadata": {},
   "outputs": [],
   "source": []
  }
 ],
 "metadata": {
  "kernelspec": {
   "display_name": "Python 3 (ipykernel)",
   "language": "python",
   "name": "python3"
  },
  "language_info": {
   "codemirror_mode": {
    "name": "ipython",
    "version": 3
   },
   "file_extension": ".py",
   "mimetype": "text/x-python",
   "name": "python",
   "nbconvert_exporter": "python",
   "pygments_lexer": "ipython3",
   "version": "3.11.7"
  }
 },
 "nbformat": 4,
 "nbformat_minor": 5
}
