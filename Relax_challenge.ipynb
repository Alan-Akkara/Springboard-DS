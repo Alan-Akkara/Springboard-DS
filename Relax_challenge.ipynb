{
 "cells": [
  {
   "cell_type": "code",
   "execution_count": 1,
   "id": "d8e5c3c5-8ba4-4c1f-ae4e-b881fca59961",
   "metadata": {},
   "outputs": [],
   "source": [
    "import pandas as pd\n",
    "import numpy as np\n",
    "from datetime import timedelta\n",
    "from sklearn.model_selection import train_test_split\n",
    "from sklearn.ensemble import RandomForestClassifier\n",
    "from sklearn.metrics import roc_auc_score\n",
    "import matplotlib.pyplot as plt\n",
    "import seaborn as sns"
   ]
  },
  {
   "cell_type": "code",
   "execution_count": 4,
   "id": "b3bd1193-c66d-4b70-ba02-e6214845a283",
   "metadata": {},
   "outputs": [],
   "source": [
    "users = pd.read_csv('takehome_users.csv', parse_dates=['creation_time'], encoding='latin1')\n",
    "engagement = pd.read_csv('takehome_user_engagement.csv', parse_dates=['time_stamp'], encoding='latin1')"
   ]
  },
  {
   "cell_type": "code",
   "execution_count": 5,
   "id": "70562269-0c30-40ce-8ec1-edfd01a5e8fb",
   "metadata": {},
   "outputs": [],
   "source": [
    "def label_adopted(df_eng, user_col='user_id', ts_col='time_stamp'):\n",
    "    df_eng['date'] = df_eng[ts_col].dt.date\n",
    "    grouped = df_eng.groupby(user_col)['date'].unique().reset_index()\n",
    "    \n",
    "    def user_adopted(dates):\n",
    "        if len(dates) < 3:\n",
    "            return 0\n",
    "        dates = sorted(pd.to_datetime(dates))\n",
    "        i = 0\n",
    "        for j in range(len(dates)):\n",
    "            while (dates[j] - dates[i]).days > 6:\n",
    "                i += 1\n",
    "            if j - i + 1 >= 3:\n",
    "                return 1\n",
    "        return 0\n",
    "\n",
    "    grouped['adopted'] = grouped['date'].apply(user_adopted)\n",
    "    return grouped[[user_col, 'adopted']]"
   ]
  },
  {
   "cell_type": "code",
   "execution_count": 6,
   "id": "6e5b4fa3-ebec-41bd-b77b-39b8a62eac61",
   "metadata": {},
   "outputs": [],
   "source": [
    "user_id_col_eng = 'user_id' if 'user_id' in engagement.columns else 'object_id'\n",
    "adopted_df = label_adopted(engagement, user_col=user_id_col_eng)"
   ]
  },
  {
   "cell_type": "code",
   "execution_count": 7,
   "id": "aa546bd1-11ed-4507-8d06-c24d3b8126ae",
   "metadata": {},
   "outputs": [],
   "source": [
    "user_id_col_users = 'object_id'\n",
    "users_labels = users.merge(adopted_df, left_on=user_id_col_users, right_on=user_id_col_eng, how='left')\n",
    "users_labels['adopted'] = users_labels['adopted'].fillna(0).astype(int)"
   ]
  },
  {
   "cell_type": "code",
   "execution_count": 8,
   "id": "9accb858-af9f-4f8b-b796-d87c691a1896",
   "metadata": {},
   "outputs": [],
   "source": [
    "df = users_labels.copy()"
   ]
  },
  {
   "cell_type": "code",
   "execution_count": 9,
   "id": "b4056ca2-b05d-469c-80e0-fc8b4347e176",
   "metadata": {},
   "outputs": [],
   "source": [
    "df['invited'] = (~df['invited_by_user_id'].isnull()).astype(int)"
   ]
  },
  {
   "cell_type": "code",
   "execution_count": 10,
   "id": "890ec100-f53a-4f1a-b567-a9c33606aff0",
   "metadata": {},
   "outputs": [],
   "source": [
    "for col in ['opted_in_to_mailing_list','enabled_for_marketing_drip']:\n",
    "    if col in df.columns:\n",
    "        df[col] = df[col].fillna(0).astype(int)"
   ]
  },
  {
   "cell_type": "code",
   "execution_count": 11,
   "id": "03f7a5f5-43e1-495b-b679-88e44126cdb5",
   "metadata": {},
   "outputs": [],
   "source": [
    "if 'last_session_creation_time' in df.columns:\n",
    "    try:\n",
    "        df['last_session_dt'] = pd.to_datetime(df['last_session_creation_time'], unit='s')\n",
    "    except:\n",
    "        df['last_session_dt'] = pd.to_datetime(df['last_session_creation_time'], errors='coerce')\n",
    "    df['days_since_last_session'] = (pd.Timestamp.now() - df['last_session_dt']).dt.days\n",
    "else:\n",
    "    df['days_since_last_session'] = np.nan"
   ]
  },
  {
   "cell_type": "code",
   "execution_count": 12,
   "id": "a2a8a88e-4e65-41b5-a0bd-6cd8ae578be4",
   "metadata": {},
   "outputs": [],
   "source": [
    "feature_cols = ['invited','opted_in_to_mailing_list','enabled_for_marketing_drip','days_since_last_session','creation_source']\n",
    "X = df[feature_cols]\n",
    "y = df['adopted']"
   ]
  },
  {
   "cell_type": "code",
   "execution_count": 13,
   "id": "19a2e1aa-cf69-4867-8ac3-7850e4e43a95",
   "metadata": {},
   "outputs": [],
   "source": [
    "X = pd.get_dummies(X, columns=['creation_source'], drop_first=True)\n",
    "X['days_since_last_session'] = X['days_since_last_session'].fillna(X['days_since_last_session'].median())"
   ]
  },
  {
   "cell_type": "code",
   "execution_count": 14,
   "id": "cf23d2ac-bb8f-4249-917d-375580c180f4",
   "metadata": {},
   "outputs": [],
   "source": [
    "X_train, X_test, y_train, y_test = train_test_split(X, y, test_size=0.2, stratify=y, random_state=42)"
   ]
  },
  {
   "cell_type": "code",
   "execution_count": 15,
   "id": "fc4b473f-5973-4eb1-846e-fab54afaeb5b",
   "metadata": {},
   "outputs": [
    {
     "data": {
      "text/html": [
       "<style>#sk-container-id-1 {color: black;background-color: white;}#sk-container-id-1 pre{padding: 0;}#sk-container-id-1 div.sk-toggleable {background-color: white;}#sk-container-id-1 label.sk-toggleable__label {cursor: pointer;display: block;width: 100%;margin-bottom: 0;padding: 0.3em;box-sizing: border-box;text-align: center;}#sk-container-id-1 label.sk-toggleable__label-arrow:before {content: \"▸\";float: left;margin-right: 0.25em;color: #696969;}#sk-container-id-1 label.sk-toggleable__label-arrow:hover:before {color: black;}#sk-container-id-1 div.sk-estimator:hover label.sk-toggleable__label-arrow:before {color: black;}#sk-container-id-1 div.sk-toggleable__content {max-height: 0;max-width: 0;overflow: hidden;text-align: left;background-color: #f0f8ff;}#sk-container-id-1 div.sk-toggleable__content pre {margin: 0.2em;color: black;border-radius: 0.25em;background-color: #f0f8ff;}#sk-container-id-1 input.sk-toggleable__control:checked~div.sk-toggleable__content {max-height: 200px;max-width: 100%;overflow: auto;}#sk-container-id-1 input.sk-toggleable__control:checked~label.sk-toggleable__label-arrow:before {content: \"▾\";}#sk-container-id-1 div.sk-estimator input.sk-toggleable__control:checked~label.sk-toggleable__label {background-color: #d4ebff;}#sk-container-id-1 div.sk-label input.sk-toggleable__control:checked~label.sk-toggleable__label {background-color: #d4ebff;}#sk-container-id-1 input.sk-hidden--visually {border: 0;clip: rect(1px 1px 1px 1px);clip: rect(1px, 1px, 1px, 1px);height: 1px;margin: -1px;overflow: hidden;padding: 0;position: absolute;width: 1px;}#sk-container-id-1 div.sk-estimator {font-family: monospace;background-color: #f0f8ff;border: 1px dotted black;border-radius: 0.25em;box-sizing: border-box;margin-bottom: 0.5em;}#sk-container-id-1 div.sk-estimator:hover {background-color: #d4ebff;}#sk-container-id-1 div.sk-parallel-item::after {content: \"\";width: 100%;border-bottom: 1px solid gray;flex-grow: 1;}#sk-container-id-1 div.sk-label:hover label.sk-toggleable__label {background-color: #d4ebff;}#sk-container-id-1 div.sk-serial::before {content: \"\";position: absolute;border-left: 1px solid gray;box-sizing: border-box;top: 0;bottom: 0;left: 50%;z-index: 0;}#sk-container-id-1 div.sk-serial {display: flex;flex-direction: column;align-items: center;background-color: white;padding-right: 0.2em;padding-left: 0.2em;position: relative;}#sk-container-id-1 div.sk-item {position: relative;z-index: 1;}#sk-container-id-1 div.sk-parallel {display: flex;align-items: stretch;justify-content: center;background-color: white;position: relative;}#sk-container-id-1 div.sk-item::before, #sk-container-id-1 div.sk-parallel-item::before {content: \"\";position: absolute;border-left: 1px solid gray;box-sizing: border-box;top: 0;bottom: 0;left: 50%;z-index: -1;}#sk-container-id-1 div.sk-parallel-item {display: flex;flex-direction: column;z-index: 1;position: relative;background-color: white;}#sk-container-id-1 div.sk-parallel-item:first-child::after {align-self: flex-end;width: 50%;}#sk-container-id-1 div.sk-parallel-item:last-child::after {align-self: flex-start;width: 50%;}#sk-container-id-1 div.sk-parallel-item:only-child::after {width: 0;}#sk-container-id-1 div.sk-dashed-wrapped {border: 1px dashed gray;margin: 0 0.4em 0.5em 0.4em;box-sizing: border-box;padding-bottom: 0.4em;background-color: white;}#sk-container-id-1 div.sk-label label {font-family: monospace;font-weight: bold;display: inline-block;line-height: 1.2em;}#sk-container-id-1 div.sk-label-container {text-align: center;}#sk-container-id-1 div.sk-container {/* jupyter's `normalize.less` sets `[hidden] { display: none; }` but bootstrap.min.css set `[hidden] { display: none !important; }` so we also need the `!important` here to be able to override the default hidden behavior on the sphinx rendered scikit-learn.org. See: https://github.com/scikit-learn/scikit-learn/issues/21755 */display: inline-block !important;position: relative;}#sk-container-id-1 div.sk-text-repr-fallback {display: none;}</style><div id=\"sk-container-id-1\" class=\"sk-top-container\"><div class=\"sk-text-repr-fallback\"><pre>RandomForestClassifier(class_weight=&#x27;balanced&#x27;, n_estimators=200,\n",
       "                       random_state=42)</pre><b>In a Jupyter environment, please rerun this cell to show the HTML representation or trust the notebook. <br />On GitHub, the HTML representation is unable to render, please try loading this page with nbviewer.org.</b></div><div class=\"sk-container\" hidden><div class=\"sk-item\"><div class=\"sk-estimator sk-toggleable\"><input class=\"sk-toggleable__control sk-hidden--visually\" id=\"sk-estimator-id-1\" type=\"checkbox\" checked><label for=\"sk-estimator-id-1\" class=\"sk-toggleable__label sk-toggleable__label-arrow\">RandomForestClassifier</label><div class=\"sk-toggleable__content\"><pre>RandomForestClassifier(class_weight=&#x27;balanced&#x27;, n_estimators=200,\n",
       "                       random_state=42)</pre></div></div></div></div></div>"
      ],
      "text/plain": [
       "RandomForestClassifier(class_weight='balanced', n_estimators=200,\n",
       "                       random_state=42)"
      ]
     },
     "execution_count": 15,
     "metadata": {},
     "output_type": "execute_result"
    }
   ],
   "source": [
    "rf = RandomForestClassifier(n_estimators=200, random_state=42, class_weight='balanced')\n",
    "rf.fit(X_train, y_train)"
   ]
  },
  {
   "cell_type": "code",
   "execution_count": 16,
   "id": "3f3d757e-3d34-49ad-b0cd-370bb6364b82",
   "metadata": {},
   "outputs": [],
   "source": [
    "y_pred_proba = rf.predict_proba(X_test)[:,1]"
   ]
  },
  {
   "cell_type": "code",
   "execution_count": 17,
   "id": "3174fb75-d97d-4191-8739-7466fddf440d",
   "metadata": {},
   "outputs": [
    {
     "name": "stdout",
     "output_type": "stream",
     "text": [
      "Random Forest ROC AUC: 0.86\n"
     ]
    }
   ],
   "source": [
    "roc = roc_auc_score(y_test, y_pred_proba)\n",
    "print(\"Random Forest ROC AUC:\", round(roc,3))"
   ]
  },
  {
   "cell_type": "code",
   "execution_count": 18,
   "id": "52c62d1a-9c0a-459d-929c-e3dcbb415d2a",
   "metadata": {},
   "outputs": [
    {
     "name": "stdout",
     "output_type": "stream",
     "text": [
      "\n",
      "Top 10 feature importances:\n",
      " days_since_last_session               0.969064\n",
      "creation_source_PERSONAL_PROJECTS     0.009172\n",
      "enabled_for_marketing_drip            0.005514\n",
      "opted_in_to_mailing_list              0.005058\n",
      "creation_source_ORG_INVITE            0.004147\n",
      "invited                               0.002658\n",
      "creation_source_SIGNUP                0.002209\n",
      "creation_source_SIGNUP_GOOGLE_AUTH    0.002178\n",
      "dtype: float64\n"
     ]
    }
   ],
   "source": [
    "importances = pd.Series(rf.feature_importances_, index=X_train.columns).sort_values(ascending=False)\n",
    "print(\"\\nTop 10 feature importances:\\n\", importances.head(10))"
   ]
  },
  {
   "cell_type": "code",
   "execution_count": 19,
   "id": "5f4e1de7-a514-43f0-a6c4-2ecdb7666eb6",
   "metadata": {},
   "outputs": [
    {
     "data": {
      "image/png": "[encoded data removed]",
      "text/plain": [
       "<Figure size 800x500 with 1 Axes>"
      ]
     },
     "metadata": {},
     "output_type": "display_data"
    }
   ],
   "source": [
    "plt.figure(figsize=(8,5))\n",
    "adoption_rate = df.groupby('creation_source')['adopted'].mean().sort_values(ascending=False)\n",
    "sns.barplot(x=adoption_rate.index, y=adoption_rate.values)\n",
    "plt.ylabel(\"Adoption Rate\")\n",
    "plt.title(\"Adoption Rate by Creation Source\")\n",
    "plt.xticks(rotation=30)\n",
    "plt.tight_layout()\n",
    "plt.show()"
   ]
  },
  {
   "cell_type": "code",
   "execution_count": null,
   "id": "7941df4b-7383-490d-a64a-0d83fa4f7a87",
   "metadata": {},
   "outputs": [],
   "source": []
  },
  {
   "cell_type": "code",
   "execution_count": null,
   "id": "7adeec10-6e7b-49cb-8590-f752f7ac97d1",
   "metadata": {},
   "outputs": [],
   "source": []
  },
  {
   "cell_type": "code",
   "execution_count": null,
   "id": "18af3d5c-2346-4d05-9366-7ce7c27695b2",
   "metadata": {},
   "outputs": [],
   "source": []
  },
  {
   "cell_type": "code",
   "execution_count": null,
   "id": "64fdec05-07a0-4803-b5a9-9b3db260de38",
   "metadata": {},
   "outputs": [],
   "source": []
  },
  {
   "cell_type": "code",
   "execution_count": null,
   "id": "6fc76000-8f63-4ca6-8d0e-d4a055813a57",
   "metadata": {},
   "outputs": [],
   "source": []
  },
  {
   "cell_type": "code",
   "execution_count": null,
   "id": "e957637b-75cd-4607-9c1c-868f1b5657f9",
   "metadata": {},
   "outputs": [],
   "source": []
  }
 ],
 "metadata": {
  "kernelspec": {
   "display_name": "Python 3 (ipykernel)",
   "language": "python",
   "name": "python3"
  },
  "language_info": {
   "codemirror_mode": {
    "name": "ipython",
    "version": 3
   },
   "file_extension": ".py",
   "mimetype": "text/x-python",
   "name": "python",
   "nbconvert_exporter": "python",
   "pygments_lexer": "ipython3",
   "version": "3.11.7"
  }
 },
 "nbformat": 4,
 "nbformat_minor": 5
}
