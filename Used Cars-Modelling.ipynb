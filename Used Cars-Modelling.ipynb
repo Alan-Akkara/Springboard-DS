{
 "cells": [
  {
   "cell_type": "code",
   "execution_count": 1,
   "id": "af0a31d4-35ed-422c-aa19-f6884c2620e1",
   "metadata": {},
   "outputs": [
    {
     "name": "stdout",
     "output_type": "stream",
     "text": [
      "Requirement already satisfied: lightgbm in c:\\users\\alana\\anaconda3\\lib\\site-packages (4.6.0)Note: you may need to restart the kernel to use updated packages.\n",
      "\n",
      "Requirement already satisfied: numpy>=1.17.0 in c:\\users\\alana\\anaconda3\\lib\\site-packages (from lightgbm) (1.26.4)\n",
      "Requirement already satisfied: scipy in c:\\users\\alana\\anaconda3\\lib\\site-packages (from lightgbm) (1.11.4)\n"
     ]
    }
   ],
   "source": [
    "pip install lightgbm"
   ]
  },
  {
   "cell_type": "code",
   "execution_count": 2,
   "id": "c0ad6b2c-bee4-457b-84fa-4d36272ec2de",
   "metadata": {},
   "outputs": [
    {
     "name": "stdout",
     "output_type": "stream",
     "text": [
      "Requirement already satisfied: xgboost in c:\\users\\alana\\anaconda3\\lib\\site-packages (3.0.4)\n",
      "Requirement already satisfied: numpy in c:\\users\\alana\\anaconda3\\lib\\site-packages (from xgboost) (1.26.4)\n",
      "Requirement already satisfied: scipy in c:\\users\\alana\\anaconda3\\lib\\site-packages (from xgboost) (1.11.4)\n",
      "Note: you may need to restart the kernel to use updated packages.\n"
     ]
    }
   ],
   "source": [
    "pip install xgboost"
   ]
  },
  {
   "cell_type": "code",
   "execution_count": 42,
   "id": "fe840e87-c4de-42e8-af82-bf9cd2710152",
   "metadata": {},
   "outputs": [],
   "source": [
    "import pandas as pd\n",
    "import numpy as np\n",
    "from sklearn.model_selection import train_test_split, RandomizedSearchCV\n",
    "from sklearn.linear_model import LinearRegression\n",
    "from sklearn.ensemble import GradientBoostingRegressor\n",
    "from lightgbm import LGBMRegressor\n",
    "from xgboost import XGBRegressor\n",
    "from sklearn.ensemble import RandomForestRegressor\n",
    "from sklearn.metrics import mean_squared_error, r2_score, mean_absolute_error\n",
    "import pickle"
   ]
  },
  {
   "cell_type": "code",
   "execution_count": 4,
   "id": "af3cb742-5848-450e-af62-5697b37d2147",
   "metadata": {},
   "outputs": [],
   "source": [
    "X = pd.read_csv(\"preprocessed_cars.csv\")\n",
    "y = pd.read_csv(\"target_price.csv\")"
   ]
  },
  {
   "cell_type": "code",
   "execution_count": 5,
   "id": "a8d1ec26-fab4-462d-a696-21a997269945",
   "metadata": {},
   "outputs": [],
   "source": [
    "X_train, X_test, y_train, y_test = train_test_split(\n",
    "    X, y, test_size=0.2, random_state=42\n",
    ")"
   ]
  },
  {
   "cell_type": "markdown",
   "id": "449dbcfb-87c0-46dd-9607-7e341bf79444",
   "metadata": {},
   "source": [
    "### **Linear Regression**"
   ]
  },
  {
   "cell_type": "code",
   "execution_count": 6,
   "id": "586271b5-8c5f-415f-873d-368ba538afa1",
   "metadata": {},
   "outputs": [],
   "source": [
    "lr = LinearRegression()\n",
    "lr.fit(X_train, y_train)\n",
    "y_pred_lr = lr.predict(X_test)"
   ]
  },
  {
   "cell_type": "code",
   "execution_count": 7,
   "id": "12087eb9-2c32-4ab7-9241-987bd76be0b7",
   "metadata": {},
   "outputs": [
    {
     "name": "stdout",
     "output_type": "stream",
     "text": [
      "Linear Regression RMSE: 9924.39635291173\n",
      "Linear Regression R2: 0.6309010957510905\n"
     ]
    }
   ],
   "source": [
    "print(\"Linear Regression RMSE:\", mean_squared_error(y_test, y_pred_lr, squared=False))\n",
    "print(\"Linear Regression R2:\", r2_score(y_test, y_pred_lr))"
   ]
  },
  {
   "cell_type": "markdown",
   "id": "79bc6a02-93e5-4e41-b58a-9f0c68c35f1f",
   "metadata": {},
   "source": [
    "### **Gradient Boosting Regressor**"
   ]
  },
  {
   "cell_type": "code",
   "execution_count": 8,
   "id": "d7081a0c-bfcd-47ab-bcdb-95523dd4f2ab",
   "metadata": {},
   "outputs": [],
   "source": [
    "gbr = GradientBoostingRegressor(n_estimators=100, learning_rate=0.1, max_depth=3, random_state=42)\n",
    "gbr.fit(X_train, y_train.values.ravel())\n",
    "y_pred_gbr = gbr.predict(X_test)"
   ]
  },
  {
   "cell_type": "code",
   "execution_count": 40,
   "id": "7ed5503e-0b1f-4bce-a850-6795103dd92a",
   "metadata": {},
   "outputs": [],
   "source": [
    "rmse = mean_squared_error(y_test, y_pred_gbr, squared=False)\n",
    "r2 = r2_score(y_test, y_pred_gbr)"
   ]
  },
  {
   "cell_type": "code",
   "execution_count": 41,
   "id": "9165d544-9f99-409b-91f5-aa02038af79b",
   "metadata": {},
   "outputs": [
    {
     "name": "stdout",
     "output_type": "stream",
     "text": [
      "Gradient Boosting Results\n",
      "Root Mean Squared Error: 8609.830420207834\n",
      "R^2 Score: 0.722205431376266\n"
     ]
    }
   ],
   "source": [
    "print(\"Gradient Boosting Results\")\n",
    "print(\"Root Mean Squared Error:\", rmse)\n",
    "print(\"R^2 Score:\", r2)"
   ]
  },
  {
   "cell_type": "markdown",
   "id": "c5286929-96d8-4f14-ad87-ab9aa95cb010",
   "metadata": {},
   "source": [
    "### **Random Forest Regressor**"
   ]
  },
  {
   "cell_type": "code",
   "execution_count": 11,
   "id": "9c51f162-d43c-4f23-8863-0ed2aaa3b5bf",
   "metadata": {},
   "outputs": [],
   "source": [
    "rf = RandomForestRegressor(n_estimators=20, random_state=42)\n",
    "rf.fit(X_train, y_train.values.ravel())\n",
    "y_pred_rf = rf.predict(X_test)"
   ]
  },
  {
   "cell_type": "code",
   "execution_count": 12,
   "id": "6b4383a7-057b-4c3d-8b3e-90507e5da045",
   "metadata": {},
   "outputs": [
    {
     "name": "stdout",
     "output_type": "stream",
     "text": [
      "Random Forest RMSE: 5647.498658942838\n",
      "Random Forest R2: 0.8804782817658328\n"
     ]
    }
   ],
   "source": [
    "print(\"Random Forest RMSE:\", mean_squared_error(y_test, y_pred_rf, squared=False))\n",
    "print(\"Random Forest R2:\", r2_score(y_test, y_pred_rf))"
   ]
  },
  {
   "cell_type": "markdown",
   "id": "1c4361e4-ae1d-4176-bf53-71b4738b86d2",
   "metadata": {},
   "source": [
    "### **Light Gradient Boosting**"
   ]
  },
  {
   "cell_type": "code",
   "execution_count": 13,
   "id": "b46921aa-b68c-4872-8a88-5847b30f62a9",
   "metadata": {},
   "outputs": [],
   "source": [
    "lgb_model = LGBMRegressor(\n",
    "    n_estimators=1000,     \n",
    "    learning_rate=0.1,\n",
    "    max_depth=-1,\n",
    "    random_state=42\n",
    ")"
   ]
  },
  {
   "cell_type": "code",
   "execution_count": 14,
   "id": "4c40b398-c11d-4765-bfaf-77c1ea539578",
   "metadata": {},
   "outputs": [
    {
     "name": "stdout",
     "output_type": "stream",
     "text": [
      "[LightGBM] [Info] Auto-choosing col-wise multi-threading, the overhead of testing was 0.104198 seconds.\n",
      "You can set `force_col_wise=true` to remove the overhead.\n",
      "[LightGBM] [Info] Total Bins 16065\n",
      "[LightGBM] [Info] Number of data points in the train set: 552296, number of used features: 63\n",
      "[LightGBM] [Info] Start training from score 30759.424484\n"
     ]
    },
    {
     "data": {
      "text/html": [
       "<style>#sk-container-id-1 {color: black;background-color: white;}#sk-container-id-1 pre{padding: 0;}#sk-container-id-1 div.sk-toggleable {background-color: white;}#sk-container-id-1 label.sk-toggleable__label {cursor: pointer;display: block;width: 100%;margin-bottom: 0;padding: 0.3em;box-sizing: border-box;text-align: center;}#sk-container-id-1 label.sk-toggleable__label-arrow:before {content: \"▸\";float: left;margin-right: 0.25em;color: #696969;}#sk-container-id-1 label.sk-toggleable__label-arrow:hover:before {color: black;}#sk-container-id-1 div.sk-estimator:hover label.sk-toggleable__label-arrow:before {color: black;}#sk-container-id-1 div.sk-toggleable__content {max-height: 0;max-width: 0;overflow: hidden;text-align: left;background-color: #f0f8ff;}#sk-container-id-1 div.sk-toggleable__content pre {margin: 0.2em;color: black;border-radius: 0.25em;background-color: #f0f8ff;}#sk-container-id-1 input.sk-toggleable__control:checked~div.sk-toggleable__content {max-height: 200px;max-width: 100%;overflow: auto;}#sk-container-id-1 input.sk-toggleable__control:checked~label.sk-toggleable__label-arrow:before {content: \"▾\";}#sk-container-id-1 div.sk-estimator input.sk-toggleable__control:checked~label.sk-toggleable__label {background-color: #d4ebff;}#sk-container-id-1 div.sk-label input.sk-toggleable__control:checked~label.sk-toggleable__label {background-color: #d4ebff;}#sk-container-id-1 input.sk-hidden--visually {border: 0;clip: rect(1px 1px 1px 1px);clip: rect(1px, 1px, 1px, 1px);height: 1px;margin: -1px;overflow: hidden;padding: 0;position: absolute;width: 1px;}#sk-container-id-1 div.sk-estimator {font-family: monospace;background-color: #f0f8ff;border: 1px dotted black;border-radius: 0.25em;box-sizing: border-box;margin-bottom: 0.5em;}#sk-container-id-1 div.sk-estimator:hover {background-color: #d4ebff;}#sk-container-id-1 div.sk-parallel-item::after {content: \"\";width: 100%;border-bottom: 1px solid gray;flex-grow: 1;}#sk-container-id-1 div.sk-label:hover label.sk-toggleable__label {background-color: #d4ebff;}#sk-container-id-1 div.sk-serial::before {content: \"\";position: absolute;border-left: 1px solid gray;box-sizing: border-box;top: 0;bottom: 0;left: 50%;z-index: 0;}#sk-container-id-1 div.sk-serial {display: flex;flex-direction: column;align-items: center;background-color: white;padding-right: 0.2em;padding-left: 0.2em;position: relative;}#sk-container-id-1 div.sk-item {position: relative;z-index: 1;}#sk-container-id-1 div.sk-parallel {display: flex;align-items: stretch;justify-content: center;background-color: white;position: relative;}#sk-container-id-1 div.sk-item::before, #sk-container-id-1 div.sk-parallel-item::before {content: \"\";position: absolute;border-left: 1px solid gray;box-sizing: border-box;top: 0;bottom: 0;left: 50%;z-index: -1;}#sk-container-id-1 div.sk-parallel-item {display: flex;flex-direction: column;z-index: 1;position: relative;background-color: white;}#sk-container-id-1 div.sk-parallel-item:first-child::after {align-self: flex-end;width: 50%;}#sk-container-id-1 div.sk-parallel-item:last-child::after {align-self: flex-start;width: 50%;}#sk-container-id-1 div.sk-parallel-item:only-child::after {width: 0;}#sk-container-id-1 div.sk-dashed-wrapped {border: 1px dashed gray;margin: 0 0.4em 0.5em 0.4em;box-sizing: border-box;padding-bottom: 0.4em;background-color: white;}#sk-container-id-1 div.sk-label label {font-family: monospace;font-weight: bold;display: inline-block;line-height: 1.2em;}#sk-container-id-1 div.sk-label-container {text-align: center;}#sk-container-id-1 div.sk-container {/* jupyter's `normalize.less` sets `[hidden] { display: none; }` but bootstrap.min.css set `[hidden] { display: none !important; }` so we also need the `!important` here to be able to override the default hidden behavior on the sphinx rendered scikit-learn.org. See: https://github.com/scikit-learn/scikit-learn/issues/21755 */display: inline-block !important;position: relative;}#sk-container-id-1 div.sk-text-repr-fallback {display: none;}</style><div id=\"sk-container-id-1\" class=\"sk-top-container\"><div class=\"sk-text-repr-fallback\"><pre>LGBMRegressor(n_estimators=1000, random_state=42)</pre><b>In a Jupyter environment, please rerun this cell to show the HTML representation or trust the notebook. <br />On GitHub, the HTML representation is unable to render, please try loading this page with nbviewer.org.</b></div><div class=\"sk-container\" hidden><div class=\"sk-item\"><div class=\"sk-estimator sk-toggleable\"><input class=\"sk-toggleable__control sk-hidden--visually\" id=\"sk-estimator-id-1\" type=\"checkbox\" checked><label for=\"sk-estimator-id-1\" class=\"sk-toggleable__label sk-toggleable__label-arrow\">LGBMRegressor</label><div class=\"sk-toggleable__content\"><pre>LGBMRegressor(n_estimators=1000, random_state=42)</pre></div></div></div></div></div>"
      ],
      "text/plain": [
       "LGBMRegressor(n_estimators=1000, random_state=42)"
      ]
     },
     "execution_count": 14,
     "metadata": {},
     "output_type": "execute_result"
    }
   ],
   "source": [
    "lgb_model.fit(\n",
    "    X_train, y_train.values.ravel(),\n",
    "    eval_set=[(X_test, y_test.values.ravel())],\n",
    "    eval_metric='rmse'\n",
    ")"
   ]
  },
  {
   "cell_type": "code",
   "execution_count": 15,
   "id": "81425a42-d383-4f9a-be41-8fd87b021c7b",
   "metadata": {},
   "outputs": [],
   "source": [
    "y_pred_lgb = lgb_model.predict(X_test)\n",
    "rmse = mean_squared_error(y_test, y_pred_lgb, squared=False)\n",
    "r2 = r2_score(y_test, y_pred_lgb)"
   ]
  },
  {
   "cell_type": "code",
   "execution_count": 16,
   "id": "f8bd9ae8-7d66-4632-96d6-39d761d5ff10",
   "metadata": {},
   "outputs": [
    {
     "name": "stdout",
     "output_type": "stream",
     "text": [
      "LightGBM RMSE: 5705.3237853874825\n",
      "LightGBM R^2: 0.8780181691297103\n"
     ]
    }
   ],
   "source": [
    "print(\"LightGBM RMSE:\", rmse)\n",
    "print(\"LightGBM R^2:\", r2)"
   ]
  },
  {
   "cell_type": "markdown",
   "id": "e988eb99-fa3a-464e-a912-772eb123b5af",
   "metadata": {},
   "source": [
    "### **XGBoosting**"
   ]
  },
  {
   "cell_type": "code",
   "execution_count": 17,
   "id": "fd47647f-9c28-4781-b074-2b891c04c1cd",
   "metadata": {},
   "outputs": [],
   "source": [
    "xgb_model = XGBRegressor(\n",
    "    n_estimators=150,       \n",
    "    learning_rate=0.1,\n",
    "    max_depth=6,\n",
    "    random_state=42,\n",
    "    objective='reg:squarederror'\n",
    ")"
   ]
  },
  {
   "cell_type": "code",
   "execution_count": 18,
   "id": "839116fb-f548-4612-aa8c-5cde12e4d181",
   "metadata": {},
   "outputs": [
    {
     "name": "stdout",
     "output_type": "stream",
     "text": [
      "[0]\tvalidation_0-rmse:15429.67364\n",
      "[1]\tvalidation_0-rmse:14616.58374\n",
      "[2]\tvalidation_0-rmse:13910.55643\n",
      "[3]\tvalidation_0-rmse:13259.31646\n",
      "[4]\tvalidation_0-rmse:12707.02709\n",
      "[5]\tvalidation_0-rmse:12214.95237\n",
      "[6]\tvalidation_0-rmse:11797.36295\n",
      "[7]\tvalidation_0-rmse:11409.93069\n",
      "[8]\tvalidation_0-rmse:11052.52952\n",
      "[9]\tvalidation_0-rmse:10772.21305\n",
      "[10]\tvalidation_0-rmse:10494.48124\n",
      "[11]\tvalidation_0-rmse:10250.32122\n",
      "[12]\tvalidation_0-rmse:10029.49514\n",
      "[13]\tvalidation_0-rmse:9828.76619\n",
      "[14]\tvalidation_0-rmse:9650.41508\n",
      "[15]\tvalidation_0-rmse:9481.47325\n",
      "[16]\tvalidation_0-rmse:9325.25219\n",
      "[17]\tvalidation_0-rmse:9196.57516\n",
      "[18]\tvalidation_0-rmse:9071.48202\n",
      "[19]\tvalidation_0-rmse:8951.37431\n",
      "[20]\tvalidation_0-rmse:8840.25355\n",
      "[21]\tvalidation_0-rmse:8753.10393\n",
      "[22]\tvalidation_0-rmse:8662.31069\n",
      "[23]\tvalidation_0-rmse:8579.92815\n",
      "[24]\tvalidation_0-rmse:8508.04202\n",
      "[25]\tvalidation_0-rmse:8440.24481\n",
      "[26]\tvalidation_0-rmse:8366.84486\n",
      "[27]\tvalidation_0-rmse:8300.29518\n",
      "[28]\tvalidation_0-rmse:8241.25132\n",
      "[29]\tvalidation_0-rmse:8188.06268\n",
      "[30]\tvalidation_0-rmse:8133.74001\n",
      "[31]\tvalidation_0-rmse:8087.37445\n",
      "[32]\tvalidation_0-rmse:8036.58056\n",
      "[33]\tvalidation_0-rmse:7994.86626\n",
      "[34]\tvalidation_0-rmse:7952.13800\n",
      "[35]\tvalidation_0-rmse:7913.36437\n",
      "[36]\tvalidation_0-rmse:7879.48412\n",
      "[37]\tvalidation_0-rmse:7842.19355\n",
      "[38]\tvalidation_0-rmse:7796.94965\n",
      "[39]\tvalidation_0-rmse:7763.37883\n",
      "[40]\tvalidation_0-rmse:7726.89867\n",
      "[41]\tvalidation_0-rmse:7699.57618\n",
      "[42]\tvalidation_0-rmse:7673.85482\n",
      "[43]\tvalidation_0-rmse:7642.32866\n",
      "[44]\tvalidation_0-rmse:7616.13316\n",
      "[45]\tvalidation_0-rmse:7588.26635\n",
      "[46]\tvalidation_0-rmse:7551.01365\n",
      "[47]\tvalidation_0-rmse:7527.49131\n",
      "[48]\tvalidation_0-rmse:7507.97320\n",
      "[49]\tvalidation_0-rmse:7486.45711\n",
      "[50]\tvalidation_0-rmse:7461.58720\n",
      "[51]\tvalidation_0-rmse:7433.92017\n",
      "[52]\tvalidation_0-rmse:7417.61687\n",
      "[53]\tvalidation_0-rmse:7396.57664\n",
      "[54]\tvalidation_0-rmse:7379.65335\n",
      "[55]\tvalidation_0-rmse:7352.80399\n",
      "[56]\tvalidation_0-rmse:7336.10211\n",
      "[57]\tvalidation_0-rmse:7317.96217\n",
      "[58]\tvalidation_0-rmse:7298.93925\n",
      "[59]\tvalidation_0-rmse:7275.06225\n",
      "[60]\tvalidation_0-rmse:7259.23073\n",
      "[61]\tvalidation_0-rmse:7241.43091\n",
      "[62]\tvalidation_0-rmse:7221.54688\n",
      "[63]\tvalidation_0-rmse:7210.07578\n",
      "[64]\tvalidation_0-rmse:7200.69697\n",
      "[65]\tvalidation_0-rmse:7188.52408\n",
      "[66]\tvalidation_0-rmse:7173.17963\n",
      "[67]\tvalidation_0-rmse:7156.20226\n",
      "[68]\tvalidation_0-rmse:7138.75303\n",
      "[69]\tvalidation_0-rmse:7126.72614\n",
      "[70]\tvalidation_0-rmse:7115.45812\n",
      "[71]\tvalidation_0-rmse:7101.57510\n",
      "[72]\tvalidation_0-rmse:7091.13892\n",
      "[73]\tvalidation_0-rmse:7083.98337\n",
      "[74]\tvalidation_0-rmse:7073.36630\n",
      "[75]\tvalidation_0-rmse:7061.79921\n",
      "[76]\tvalidation_0-rmse:7051.52708\n",
      "[77]\tvalidation_0-rmse:7043.25694\n",
      "[78]\tvalidation_0-rmse:7034.45221\n",
      "[79]\tvalidation_0-rmse:7026.07726\n",
      "[80]\tvalidation_0-rmse:7012.70996\n",
      "[81]\tvalidation_0-rmse:7000.99893\n",
      "[82]\tvalidation_0-rmse:6991.15463\n",
      "[83]\tvalidation_0-rmse:6981.09094\n",
      "[84]\tvalidation_0-rmse:6973.41905\n",
      "[85]\tvalidation_0-rmse:6961.81245\n",
      "[86]\tvalidation_0-rmse:6952.13025\n",
      "[87]\tvalidation_0-rmse:6941.14444\n",
      "[88]\tvalidation_0-rmse:6935.51529\n",
      "[89]\tvalidation_0-rmse:6923.11099\n",
      "[90]\tvalidation_0-rmse:6912.02200\n",
      "[91]\tvalidation_0-rmse:6901.01161\n",
      "[92]\tvalidation_0-rmse:6889.88047\n",
      "[93]\tvalidation_0-rmse:6881.90874\n",
      "[94]\tvalidation_0-rmse:6871.28805\n",
      "[95]\tvalidation_0-rmse:6864.32549\n",
      "[96]\tvalidation_0-rmse:6853.42381\n",
      "[97]\tvalidation_0-rmse:6850.30710\n",
      "[98]\tvalidation_0-rmse:6842.66265\n",
      "[99]\tvalidation_0-rmse:6835.39272\n",
      "[100]\tvalidation_0-rmse:6825.52895\n",
      "[101]\tvalidation_0-rmse:6814.89392\n",
      "[102]\tvalidation_0-rmse:6808.04278\n",
      "[103]\tvalidation_0-rmse:6801.85446\n",
      "[104]\tvalidation_0-rmse:6796.77890\n",
      "[105]\tvalidation_0-rmse:6792.45301\n",
      "[106]\tvalidation_0-rmse:6786.74039\n",
      "[107]\tvalidation_0-rmse:6778.92376\n",
      "[108]\tvalidation_0-rmse:6773.95090\n",
      "[109]\tvalidation_0-rmse:6767.30778\n",
      "[110]\tvalidation_0-rmse:6761.74009\n",
      "[111]\tvalidation_0-rmse:6758.41587\n",
      "[112]\tvalidation_0-rmse:6749.59428\n",
      "[113]\tvalidation_0-rmse:6743.89166\n",
      "[114]\tvalidation_0-rmse:6739.92930\n",
      "[115]\tvalidation_0-rmse:6735.20129\n",
      "[116]\tvalidation_0-rmse:6728.36707\n",
      "[117]\tvalidation_0-rmse:6723.15689\n",
      "[118]\tvalidation_0-rmse:6716.79309\n",
      "[119]\tvalidation_0-rmse:6713.15334\n",
      "[120]\tvalidation_0-rmse:6705.64311\n",
      "[121]\tvalidation_0-rmse:6699.04926\n",
      "[122]\tvalidation_0-rmse:6689.97721\n",
      "[123]\tvalidation_0-rmse:6685.71439\n",
      "[124]\tvalidation_0-rmse:6681.84017\n",
      "[125]\tvalidation_0-rmse:6675.87338\n",
      "[126]\tvalidation_0-rmse:6672.60825\n",
      "[127]\tvalidation_0-rmse:6668.07537\n",
      "[128]\tvalidation_0-rmse:6662.91746\n",
      "[129]\tvalidation_0-rmse:6659.21159\n",
      "[130]\tvalidation_0-rmse:6653.04354\n",
      "[131]\tvalidation_0-rmse:6648.22256\n",
      "[132]\tvalidation_0-rmse:6644.55628\n",
      "[133]\tvalidation_0-rmse:6637.87634\n",
      "[134]\tvalidation_0-rmse:6632.42656\n",
      "[135]\tvalidation_0-rmse:6627.36682\n",
      "[136]\tvalidation_0-rmse:6622.43087\n",
      "[137]\tvalidation_0-rmse:6618.44530\n",
      "[138]\tvalidation_0-rmse:6613.71183\n",
      "[139]\tvalidation_0-rmse:6610.47629\n",
      "[140]\tvalidation_0-rmse:6605.13700\n",
      "[141]\tvalidation_0-rmse:6599.20840\n",
      "[142]\tvalidation_0-rmse:6597.41545\n",
      "[143]\tvalidation_0-rmse:6594.13701\n",
      "[144]\tvalidation_0-rmse:6591.39002\n",
      "[145]\tvalidation_0-rmse:6588.40431\n",
      "[146]\tvalidation_0-rmse:6583.69014\n",
      "[147]\tvalidation_0-rmse:6579.38477\n",
      "[148]\tvalidation_0-rmse:6576.91123\n",
      "[149]\tvalidation_0-rmse:6570.70988\n"
     ]
    }
   ],
   "source": [
    "xgb_model.fit(X_train, y_train.values.ravel(), eval_set=[(X_test, y_test.values.ravel())])\n",
    "y_pred_xgb = xgb_model.predict(X_test)"
   ]
  },
  {
   "cell_type": "code",
   "execution_count": 19,
   "id": "d64db584-9a9b-4df7-81cf-3aac283f5cea",
   "metadata": {},
   "outputs": [
    {
     "name": "stdout",
     "output_type": "stream",
     "text": [
      "XGBoost RMSE: 6570.709879901799\n",
      "XGBoost R^2: 0.838207219406396\n"
     ]
    }
   ],
   "source": [
    "rmse = mean_squared_error(y_test, y_pred_xgb, squared=False)\n",
    "r2 = r2_score(y_test, y_pred_xgb)\n",
    "\n",
    "print(\"XGBoost RMSE:\", rmse)\n",
    "print(\"XGBoost R^2:\", r2)"
   ]
  },
  {
   "cell_type": "markdown",
   "id": "064d44a7-81d9-421e-8cd6-9778f7d68aeb",
   "metadata": {},
   "source": [
    "### **Hyperparameter Tuning**"
   ]
  },
  {
   "cell_type": "markdown",
   "id": "0174d93b-af15-4571-b0b2-52af2692cf73",
   "metadata": {},
   "source": [
    "### **LGB Tuning**"
   ]
  },
  {
   "cell_type": "code",
   "execution_count": 20,
   "id": "13f93bea-0172-4d7a-845e-d6c8dd0dbe27",
   "metadata": {},
   "outputs": [],
   "source": [
    "lgb_param_grid = {\n",
    "    'n_estimators': [500, 1000, 1500],\n",
    "    'learning_rate': [0.01, 0.05, 0.1],\n",
    "    'max_depth': [5, 10, 15, -1],\n",
    "    'num_leaves': [31, 63, 127],\n",
    "    'min_child_samples': [20, 50, 100],\n",
    "    'subsample': [0.6, 0.8, 1.0],\n",
    "    'colsample_bytree': [0.6, 0.8, 1.0]\n",
    "}"
   ]
  },
  {
   "cell_type": "code",
   "execution_count": 21,
   "id": "25dd03c2-c6cf-4d5a-a985-152742e10d6b",
   "metadata": {},
   "outputs": [],
   "source": [
    "lgb_model = LGBMRegressor(random_state=42)\n",
    "random_search_lgb = RandomizedSearchCV(\n",
    "    lgb_model, lgb_param_grid, n_iter=20, cv=3,\n",
    "    scoring='neg_root_mean_squared_error', n_jobs=-1, random_state=42\n",
    ")"
   ]
  },
  {
   "cell_type": "code",
   "execution_count": 22,
   "id": "96a4962e-6082-4fc8-896a-32540345cdd7",
   "metadata": {},
   "outputs": [
    {
     "name": "stdout",
     "output_type": "stream",
     "text": [
      "[LightGBM] [Info] Auto-choosing col-wise multi-threading, the overhead of testing was 0.122227 seconds.\n",
      "You can set `force_col_wise=true` to remove the overhead.\n",
      "[LightGBM] [Info] Total Bins 16065\n",
      "[LightGBM] [Info] Number of data points in the train set: 552296, number of used features: 63\n",
      "[LightGBM] [Info] Start training from score 30759.424484\n",
      "Best LGBM Params: {'subsample': 0.6, 'num_leaves': 127, 'n_estimators': 1500, 'min_child_samples': 20, 'max_depth': 15, 'learning_rate': 0.05, 'colsample_bytree': 0.8}\n",
      "Best LGBM RMSE: 5400.242631075926\n"
     ]
    }
   ],
   "source": [
    "random_search_lgb.fit(X_train, y_train.values.ravel())\n",
    "print(\"Best LGBM Params:\", random_search_lgb.best_params_)\n",
    "print(\"Best LGBM RMSE:\", -random_search_lgb.best_score_)"
   ]
  },
  {
   "cell_type": "code",
   "execution_count": 23,
   "id": "d6ca9615-2280-4b2b-91bb-da00ba5c14de",
   "metadata": {},
   "outputs": [],
   "source": [
    "best_lgb_model = random_search_lgb.best_estimator_\n",
    "\n",
    "y_train_pred = best_lgb_model.predict(X_train)\n",
    "y_test_pred = best_lgb_model.predict(X_test)"
   ]
  },
  {
   "cell_type": "code",
   "execution_count": 24,
   "id": "6dd9f608-4366-45fe-a244-b1b55e959aa1",
   "metadata": {},
   "outputs": [],
   "source": [
    "train_rmse = mean_squared_error(y_train, y_train_pred, squared=False)\n",
    "train_mae = mean_absolute_error(y_train, y_train_pred)\n",
    "train_r2 = r2_score(y_train, y_train_pred)\n",
    "\n",
    "test_rmse = mean_squared_error(y_test, y_test_pred, squared=False)\n",
    "test_mae = mean_absolute_error(y_test, y_test_pred)\n",
    "test_r2 = r2_score(y_test, y_test_pred)"
   ]
  },
  {
   "cell_type": "code",
   "execution_count": 25,
   "id": "8a60feeb-bed6-44bc-a999-5d2557ff7e1b",
   "metadata": {},
   "outputs": [
    {
     "name": "stdout",
     "output_type": "stream",
     "text": [
      "Train RMSE: 4197.717268940712\n",
      "Train MAE: 2904.9012859742375\n",
      "Train R²: 0.9340051617699818\n",
      "\n",
      "Test RMSE: 5306.16068781092\n",
      "Test MAE: 3448.887215034038\n",
      "Test R²: 0.8944895803535876\n",
      "\n",
      "Best LGB Params: {'subsample': 0.6, 'num_leaves': 127, 'n_estimators': 1500, 'min_child_samples': 20, 'max_depth': 15, 'learning_rate': 0.05, 'colsample_bytree': 0.8}\n",
      "Validation RMSE (CV): 5400.242631075926\n"
     ]
    }
   ],
   "source": [
    "print(\"Train RMSE:\", train_rmse)\n",
    "print(\"Train MAE:\", train_mae)\n",
    "print(\"Train R²:\", train_r2)\n",
    "\n",
    "print(\"\\nTest RMSE:\", test_rmse)\n",
    "print(\"Test MAE:\", test_mae)\n",
    "print(\"Test R²:\", test_r2)\n",
    "\n",
    "print(\"\\nBest LGB Params:\", random_search_lgb.best_params_)\n",
    "print(\"Validation RMSE (CV):\", -random_search_lgb.best_score_)"
   ]
  },
  {
   "cell_type": "markdown",
   "id": "3ecef201-31b4-4327-b1ac-7bc088d27cf7",
   "metadata": {},
   "source": [
    "### **Random Forest Tuning**"
   ]
  },
  {
   "cell_type": "code",
   "execution_count": 26,
   "id": "eeb606b6-c7b3-4e46-b1f8-a96115699b55",
   "metadata": {},
   "outputs": [],
   "source": [
    "rf_param_grid = {\n",
    "    'n_estimators': [100, 200],          \n",
    "    'max_depth': [10, 20, None],          \n",
    "    'min_samples_split': [2, 5],          \n",
    "    'min_samples_leaf': [1, 2],           \n",
    "    'max_features': ['sqrt', 'log2']      \n",
    "}"
   ]
  },
  {
   "cell_type": "code",
   "execution_count": 27,
   "id": "4097f12f-45a1-492c-9660-eda7db5a3295",
   "metadata": {},
   "outputs": [],
   "source": [
    "rf_model = RandomForestRegressor(random_state=42)\n",
    "random_search_rf = RandomizedSearchCV(\n",
    "    rf_model, rf_param_grid, n_iter=20, cv=3,\n",
    "    scoring='neg_root_mean_squared_error', n_jobs=2, random_state=42\n",
    ")"
   ]
  },
  {
   "cell_type": "code",
   "execution_count": 28,
   "id": "ab2703f5-7beb-4b87-855d-a50dc74c5949",
   "metadata": {},
   "outputs": [
    {
     "name": "stdout",
     "output_type": "stream",
     "text": [
      "Best RF Params: {'n_estimators': 200, 'min_samples_split': 2, 'min_samples_leaf': 2, 'max_features': 'sqrt', 'max_depth': None}\n",
      "Best RF RMSE: 5771.239322130953\n"
     ]
    }
   ],
   "source": [
    "random_search_rf.fit(X_train, y_train.values.ravel())\n",
    "print(\"Best RF Params:\", random_search_rf.best_params_)\n",
    "print(\"Best RF RMSE:\", -random_search_rf.best_score_)"
   ]
  },
  {
   "cell_type": "code",
   "execution_count": 29,
   "id": "7da16def-ca7b-407c-9308-43141d671ac1",
   "metadata": {},
   "outputs": [],
   "source": [
    "best_rf = random_search_rf.best_estimator_\n",
    "\n",
    "y_train_pred = best_rf.predict(X_train)\n",
    "y_test_pred = best_rf.predict(X_test)"
   ]
  },
  {
   "cell_type": "code",
   "execution_count": 30,
   "id": "007dfd8e-d82d-4f84-981e-7deb3b6bb2ff",
   "metadata": {},
   "outputs": [],
   "source": [
    "train_rmse = mean_squared_error(y_train, y_train_pred, squared=False)\n",
    "train_mae = mean_absolute_error(y_train, y_train_pred)\n",
    "train_r2 = r2_score(y_train, y_train_pred)\n",
    "\n",
    "test_rmse = mean_squared_error(y_test, y_test_pred, squared=False)\n",
    "test_mae = mean_absolute_error(y_test, y_test_pred)\n",
    "test_r2 = r2_score(y_test, y_test_pred)"
   ]
  },
  {
   "cell_type": "code",
   "execution_count": 31,
   "id": "7f4997e4-d71f-4824-8cb6-b4bcbd14d915",
   "metadata": {},
   "outputs": [
    {
     "name": "stdout",
     "output_type": "stream",
     "text": [
      "Train RMSE: 2704.6864762992527\n",
      "Train MAE: 1676.5577919579086\n",
      "Train R²: 0.9726020884218682\n",
      "\n",
      "Test RMSE: 5575.833591181349\n",
      "Test MAE: 3558.9970471051724\n",
      "Test R²: 0.8834924250286198\n",
      "\n",
      "Best RF Params: {'n_estimators': 200, 'min_samples_split': 2, 'min_samples_leaf': 2, 'max_features': 'sqrt', 'max_depth': None}\n",
      "Validation RMSE (CV): 5771.239322130953\n"
     ]
    }
   ],
   "source": [
    "print(\"Train RMSE:\", train_rmse)\n",
    "print(\"Train MAE:\", train_mae)\n",
    "print(\"Train R²:\", train_r2)\n",
    "\n",
    "print(\"\\nTest RMSE:\", test_rmse)\n",
    "print(\"Test MAE:\", test_mae)\n",
    "print(\"Test R²:\", test_r2)\n",
    "\n",
    "print(\"\\nBest RF Params:\", random_search_rf.best_params_)\n",
    "print(\"Validation RMSE (CV):\", -random_search_rf.best_score_)"
   ]
  },
  {
   "cell_type": "markdown",
   "id": "6b22c5c2-09a0-4099-a822-adaa228285fd",
   "metadata": {},
   "source": [
    "### **XGB Tuning**"
   ]
  },
  {
   "cell_type": "code",
   "execution_count": 32,
   "id": "a9f4dd5a-9841-47cb-a122-ccd8ac831fcb",
   "metadata": {},
   "outputs": [],
   "source": [
    "xgb_param_grid = {\n",
    "    'n_estimators': [200, 300, 500],\n",
    "    'learning_rate': [0.01, 0.05, 0.1],\n",
    "    'max_depth': [4, 6, 8],\n",
    "    'subsample': [0.6, 0.8, 1.0],\n",
    "    'colsample_bytree': [0.6, 0.8, 1.0],\n",
    "    'reg_alpha': [0, 0.1, 1],\n",
    "    'reg_lambda': [1, 1.5, 2]\n",
    "}"
   ]
  },
  {
   "cell_type": "code",
   "execution_count": 33,
   "id": "21278daf-5e61-4644-afb7-db13e6f6dc92",
   "metadata": {},
   "outputs": [],
   "source": [
    "xgb_model = XGBRegressor(random_state=42, objective='reg:squarederror', tree_method='hist')\n",
    "random_search_xgb = RandomizedSearchCV(\n",
    "    xgb_model, xgb_param_grid, n_iter=20, cv=3,\n",
    "    scoring='neg_root_mean_squared_error', n_jobs=4, random_state=42\n",
    ")"
   ]
  },
  {
   "cell_type": "code",
   "execution_count": 34,
   "id": "5520d6cc-3e12-4471-b664-766a1f74493e",
   "metadata": {},
   "outputs": [
    {
     "name": "stdout",
     "output_type": "stream",
     "text": [
      "Best XGB Params: {'subsample': 0.6, 'reg_lambda': 1, 'reg_alpha': 0.1, 'n_estimators': 500, 'max_depth': 8, 'learning_rate': 0.1, 'colsample_bytree': 1.0}\n",
      "Best XGB RMSE: 5570.723571048205\n"
     ]
    }
   ],
   "source": [
    "random_search_xgb.fit(X_train, y_train.values.ravel())\n",
    "print(\"Best XGB Params:\", random_search_xgb.best_params_)\n",
    "print(\"Best XGB RMSE:\", -random_search_xgb.best_score_)"
   ]
  },
  {
   "cell_type": "code",
   "execution_count": 35,
   "id": "377ee0ec-80a1-4f7f-9b37-7fdcfb88f0c9",
   "metadata": {},
   "outputs": [],
   "source": [
    "best_xgb = random_search_xgb.best_estimator_\n",
    "\n",
    "y_train_pred = best_xgb.predict(X_train)\n",
    "y_test_pred = best_xgb.predict(X_test)"
   ]
  },
  {
   "cell_type": "code",
   "execution_count": 36,
   "id": "93ccb6d5-5c5f-4411-80d4-0d78a7bda882",
   "metadata": {},
   "outputs": [],
   "source": [
    "train_rmse = mean_squared_error(y_train, y_train_pred, squared=False)\n",
    "train_mae = mean_absolute_error(y_train, y_train_pred)\n",
    "train_r2 = r2_score(y_train, y_train_pred)\n",
    "\n",
    "test_rmse = mean_squared_error(y_test, y_test_pred, squared=False)\n",
    "test_mae = mean_absolute_error(y_test, y_test_pred)\n",
    "test_r2 = r2_score(y_test, y_test_pred)"
   ]
  },
  {
   "cell_type": "code",
   "execution_count": 37,
   "id": "f97dfd65-e9dd-4b12-a59f-07224c7bd4d3",
   "metadata": {},
   "outputs": [
    {
     "name": "stdout",
     "output_type": "stream",
     "text": [
      "Train RMSE: 4430.156913601413\n",
      "Train MAE: 3076.420358072595\n",
      "Train R²: 0.9264941644529384\n",
      "\n",
      "Test RMSE: 5475.329640118488\n",
      "Test MAE: 3571.8540430690873\n",
      "Test R²: 0.8876546512796727\n",
      "\n",
      "Best XGB Params: {'subsample': 0.6, 'reg_lambda': 1, 'reg_alpha': 0.1, 'n_estimators': 500, 'max_depth': 8, 'learning_rate': 0.1, 'colsample_bytree': 1.0}\n",
      "Validation RMSE (CV): 5570.723571048205\n"
     ]
    }
   ],
   "source": [
    "print(\"Train RMSE:\", train_rmse)\n",
    "print(\"Train MAE:\", train_mae)\n",
    "print(\"Train R²:\", train_r2)\n",
    "\n",
    "print(\"\\nTest RMSE:\", test_rmse)\n",
    "print(\"Test MAE:\", test_mae)\n",
    "print(\"Test R²:\", test_r2)\n",
    "\n",
    "print(\"\\nBest XGB Params:\", random_search_xgb.best_params_)\n",
    "print(\"Validation RMSE (CV):\", -random_search_xgb.best_score_)"
   ]
  },
  {
   "cell_type": "markdown",
   "id": "747b817c-26ab-42c3-8f31-3af3c136c88f",
   "metadata": {},
   "source": [
    "## **Finalized Model**"
   ]
  },
  {
   "cell_type": "code",
   "execution_count": 38,
   "id": "2534c0c5-1b9f-4ba2-a786-697086ed05e7",
   "metadata": {},
   "outputs": [
    {
     "name": "stdout",
     "output_type": "stream",
     "text": [
      "[LightGBM] [Info] Auto-choosing col-wise multi-threading, the overhead of testing was 0.118599 seconds.\n",
      "You can set `force_col_wise=true` to remove the overhead.\n",
      "[LightGBM] [Info] Total Bins 16065\n",
      "[LightGBM] [Info] Number of data points in the train set: 552296, number of used features: 63\n",
      "[LightGBM] [Info] Start training from score 30759.424484\n",
      "Final Model RMSE: 5306.16068781092\n",
      "Final Model R2: 0.8944895803535876\n"
     ]
    }
   ],
   "source": [
    "best_model = random_search_lgb.best_estimator_\n",
    "best_model.fit(X_train, y_train.values.ravel())\n",
    "y_pred_final = best_model.predict(X_test)\n",
    "\n",
    "print(\"Final Model RMSE:\", mean_squared_error(y_test, y_pred_final, squared=False))\n",
    "print(\"Final Model R2:\", r2_score(y_test, y_pred_final))"
   ]
  },
  {
   "cell_type": "code",
   "execution_count": 43,
   "id": "1586035e-3287-4125-8550-5ef3e9a63457",
   "metadata": {},
   "outputs": [],
   "source": [
    "with open(\"final_model.pkl\", \"wb\") as f:\n",
    "    pickle.dump(best_model, f)"
   ]
  }
 ],
 "metadata": {
  "kernelspec": {
   "display_name": "Python 3 (ipykernel)",
   "language": "python",
   "name": "python3"
  },
  "language_info": {
   "codemirror_mode": {
    "name": "ipython",
    "version": 3
   },
   "file_extension": ".py",
   "mimetype": "text/x-python",
   "name": "python",
   "nbconvert_exporter": "python",
   "pygments_lexer": "ipython3",
   "version": "3.11.7"
  }
 },
 "nbformat": 4,
 "nbformat_minor": 5
}
